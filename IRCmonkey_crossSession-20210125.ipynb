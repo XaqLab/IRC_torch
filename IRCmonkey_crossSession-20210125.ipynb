{
 "cells": [
  {
   "cell_type": "markdown",
   "metadata": {},
   "source": [
    "# import packages"
   ]
  },
  {
   "cell_type": "code",
   "execution_count": 1,
   "metadata": {
    "pycharm": {
     "name": "#%%\n"
    }
   },
   "outputs": [],
   "source": [
    "from twoboxTask.twobox_IRC_torch import *"
   ]
  },
  {
   "cell_type": "code",
   "execution_count": 2,
   "metadata": {
    "pycharm": {
     "name": "#%%\n"
    }
   },
   "outputs": [],
   "source": [
    "# import numpy as np\n",
    "# #import numpy.ma as ma\n",
    "import scipy.io as sio\n",
    "# import matplotlib.pyplot as plt\n",
    "\n",
    "# from sklearn.decomposition import PCA\n",
    "# from sklearn import random_projection"
   ]
  },
  {
   "cell_type": "code",
   "execution_count": 3,
   "metadata": {},
   "outputs": [],
   "source": [
    "import matplotlib as mpl\n",
    "import matplotlib.pyplot as plt\n",
    "\n",
    "mpl.rcParams['pdf.fonttype'] = 42\n",
    "mpl.rcParams['ps.fonttype'] = 42"
   ]
  },
  {
   "cell_type": "markdown",
   "metadata": {},
   "source": [
    "# import data"
   ]
  },
  {
   "cell_type": "code",
   "execution_count": 4,
   "metadata": {
    "pycharm": {
     "name": "#%%\n"
    }
   },
   "outputs": [],
   "source": [
    "data = sio.loadmat('NeuralDatafromNeda/behav_valid.mat')\n",
    "sch = data['sch']\n",
    "binsize = 200"
   ]
  },
  {
   "cell_type": "code",
   "execution_count": 5,
   "metadata": {
    "pycharm": {
     "name": "#%%\n"
    }
   },
   "outputs": [
    {
     "data": {
      "text/plain": [
       "array([ 15,  20,  31,  32,  33,  34,  35,  36,  38,  39,  40,  41,  42,\n",
       "        45,  46,  63,  64,  67,  68,  69,  71,  74,  76,  79,  80,  84,\n",
       "        88,  89,  90,  95,  97,  98,  99, 109, 110, 111, 112])"
      ]
     },
     "execution_count": 5,
     "metadata": {},
     "output_type": "execute_result"
    }
   ],
   "source": [
    "\"\"\"\n",
    "index of sessions without NaN values\n",
    "\"\"\"\n",
    "idx_nonan = list(set([i for i in range(len(data['bLocY'][0])) if len(data['bLocY'][0][i])!= 0]) & \n",
    "     set([i for i in range(len(data['bLocX'][0])) if len(data['bLocX'][0][i])!= 0]) & \n",
    "     set([i for i in range(len(data['b1PushedTimes'][0])) if len(data['b1PushedTimes'][0][i])!= 0]) & \n",
    "     set([i for i in range(len(data['b2PushedTimes'][0])) if len(data['b2PushedTimes'][0][i])!= 0]) &\n",
    "     set([i for i in range(len(data['rew1DelTimes'][0])) if len(data['rew1DelTimes'][0][i])!= 0]) & \n",
    "     set([i for i in range(len(data['rew2DelTimes'][0])) if len(data['rew2DelTimes'][0][i])!= 0]) &\n",
    "     set([i for i in range(len(data['bLocX'][0])) if data['bLocX'][0][i].shape[1]!= 0])\n",
    "    )\n",
    "\n",
    "(np.array(idx_nonan)+1).T"
   ]
  },
  {
   "cell_type": "code",
   "execution_count": 6,
   "metadata": {
    "pycharm": {
     "name": "#%%\n"
    }
   },
   "outputs": [
    {
     "data": {
      "text/plain": [
       "[(15, array([[20, 40, 93]], dtype=uint8)),\n",
       " (20, array([[ 20,  40, 100]], dtype=uint8)),\n",
       " (31, array([[15, 25, 34, 25, 15, 66]], dtype=uint8)),\n",
       " (32, array([[25, 15, 34, 15, 25, 66]], dtype=uint8)),\n",
       " (33, array([[15, 25, 34, 25, 15, 66]], dtype=uint8)),\n",
       " (34, array([[25, 15, 34, 15, 25, 66]], dtype=uint8)),\n",
       " (35, array([[25, 15, 34, 15, 25, 66]], dtype=uint8)),\n",
       " (36, array([[15, 25, 34, 25, 15, 66]], dtype=uint8)),\n",
       " (38, array([[15, 25, 34, 25, 15, 66]], dtype=uint8)),\n",
       " (39, array([[25, 15, 34, 15, 25, 66]], dtype=uint8)),\n",
       " (40, array([[25, 15, 34, 15, 25, 66]], dtype=uint8)),\n",
       " (41, array([[25, 15, 34, 15, 25, 66]], dtype=uint8)),\n",
       " (42, array([[15, 25, 34, 25, 15, 66]], dtype=uint8)),\n",
       " (45, array([[ 20,  20, 100]], dtype=uint8)),\n",
       " (46, array([[15, 25, 34, 25, 15, 66]], dtype=uint8)),\n",
       " (63, array([[25, 15, 34, 15, 25, 66]], dtype=uint8)),\n",
       " (64, array([[25, 15, 34, 15, 25, 66]], dtype=uint8)),\n",
       " (67, array([[25, 15, 34, 15, 25, 66]], dtype=uint8)),\n",
       " (68, array([[15, 25, 34, 25, 15, 66]], dtype=uint8)),\n",
       " (69, array([[ 30,  30, 100,  30,  30, 100]], dtype=uint8)),\n",
       " (71, array([[ 20,  40, 202]], dtype=uint8)),\n",
       " (74, array([[25, 15, 34, 15, 25, 66, 15, 25, 34, 25, 15, 66]], dtype=uint8)),\n",
       " (76, array([[15, 25, 34, 25, 15, 66, 15, 25, 34, 25, 15, 66]], dtype=uint8)),\n",
       " (79, array([[15, 25, 34, 25, 15, 66, 15, 25, 34, 25, 15, 66]], dtype=uint8)),\n",
       " (80, array([[25, 15, 34, 15, 25, 66, 15, 25, 34, 25, 15, 66]], dtype=uint8)),\n",
       " (84, array([[25, 15, 34, 15, 25, 66, 15, 25, 34, 25, 15, 66]], dtype=uint8)),\n",
       " (88, array([[ 10,  30, 201]], dtype=uint8)),\n",
       " (89, array([[ 10,  30, 197]], dtype=uint8)),\n",
       " (90, array([[ 10,  30, 192]], dtype=uint8)),\n",
       " (95, array([[ 10,  30, 152]], dtype=uint8)),\n",
       " (97, array([[30, 10, 34, 10, 30, 66, 10, 30, 34, 30, 10, 66]], dtype=uint8)),\n",
       " (98, array([[ 30,  10,  34,  10,  30,  66,  10,  30, 100]], dtype=uint8)),\n",
       " (99, array([[10, 30, 34, 30, 10, 66, 30, 10, 34, 10, 30, 66]], dtype=uint8)),\n",
       " (109, array([[25, 15, 34, 15, 25, 66, 25, 15, 34, 15, 25, 66]], dtype=uint8)),\n",
       " (110, array([[15, 25, 34, 25, 15, 66, 25, 15, 34, 15, 25, 66]], dtype=uint8)),\n",
       " (111, array([[15, 25, 34, 25, 15, 66, 25, 15, 34, 15, 25, 66]], dtype=uint8)),\n",
       " (112, array([[15, 25, 34, 25, 15, 66, 25, 15, 34, 15, 25, 66]], dtype=uint8))]"
      ]
     },
     "execution_count": 6,
     "metadata": {},
     "output_type": "execute_result"
    }
   ],
   "source": [
    "\"\"\"\n",
    "scheudles of the sessions without NaN values\n",
    "\"\"\"\n",
    "[(ind + 1, sch.squeeze()[ind]) for ind in idx_nonan]"
   ]
  },
  {
   "cell_type": "code",
   "execution_count": 7,
   "metadata": {
    "pycharm": {
     "name": "#%%\n"
    }
   },
   "outputs": [
    {
     "data": {
      "text/plain": [
       "[((30, 30), 200),\n",
       " ((20, 40), 395),\n",
       " ((10, 30), 1108),\n",
       " ((30, 10), 234),\n",
       " ((20, 20), 100),\n",
       " ((25, 15), 1700),\n",
       " ((15, 25), 1700)]"
      ]
     },
     "execution_count": 7,
     "metadata": {},
     "output_type": "execute_result"
    }
   ],
   "source": [
    "\"\"\"\n",
    "check which schedule appears most\n",
    "\"\"\"\n",
    "schs = []\n",
    "for i in range(len(sch.squeeze()[idx_nonan])):\n",
    "    sch_i = sch.squeeze()[idx_nonan][i].squeeze()\n",
    "    if len(sch_i) == 3 and not np.isnan(sch_i[0]) and not np.isnan(sch_i[1]):\n",
    "        schs.append(sch_i)\n",
    "    if len(sch_i) == 6 and not np.isnan(sch_i[3]) and not np.isnan(sch_i[4]):\n",
    "        schs.append(sch_i[:3])\n",
    "        schs.append(sch_i[3:6])\n",
    "    elif len(sch_i) == 9 and not np.isnan(sch_i[6]) and not np.isnan(sch_i[7]):\n",
    "        schs.append(sch_i[:3])\n",
    "        schs.append(sch_i[3:6])\n",
    "        schs.append(sch_i[6:9])\n",
    "    elif len(sch_i) == 12 and not np.isnan(sch_i[9]) and not np.isnan(sch_i[10]):    \n",
    "        schs.append(sch_i[:3])\n",
    "        schs.append(sch_i[3:6])\n",
    "        schs.append(sch_i[6:9])\n",
    "        schs.append(sch_i[9:12])\n",
    "        \n",
    "keys = set([(s[0], s[1]) for s in schs])\n",
    "[(key, sum([s[2] for s in schs if np.all(s[:2]==np.array(key))])) for key in keys]"
   ]
  },
  {
   "cell_type": "code",
   "execution_count": 8,
   "metadata": {},
   "outputs": [],
   "source": [
    "target_schedule = np.array((15,25))"
   ]
  },
  {
   "cell_type": "markdown",
   "metadata": {},
   "source": [
    "# look into the data with selected schedule"
   ]
  },
  {
   "cell_type": "code",
   "execution_count": 9,
   "metadata": {
    "pycharm": {
     "name": "#%%\n"
    }
   },
   "outputs": [
    {
     "data": {
      "text/plain": [
       "[(31, array([[15, 25, 34, 25, 15, 66]], dtype=uint8)),\n",
       " (32, array([[25, 15, 34, 15, 25, 66]], dtype=uint8)),\n",
       " (33, array([[15, 25, 34, 25, 15, 66]], dtype=uint8)),\n",
       " (34, array([[25, 15, 34, 15, 25, 66]], dtype=uint8)),\n",
       " (35, array([[25, 15, 34, 15, 25, 66]], dtype=uint8)),\n",
       " (36, array([[15, 25, 34, 25, 15, 66]], dtype=uint8)),\n",
       " (38, array([[15, 25, 34, 25, 15, 66]], dtype=uint8)),\n",
       " (39, array([[25, 15, 34, 15, 25, 66]], dtype=uint8)),\n",
       " (40, array([[25, 15, 34, 15, 25, 66]], dtype=uint8)),\n",
       " (41, array([[25, 15, 34, 15, 25, 66]], dtype=uint8)),\n",
       " (42, array([[15, 25, 34, 25, 15, 66]], dtype=uint8)),\n",
       " (46, array([[15, 25, 34, 25, 15, 66]], dtype=uint8)),\n",
       " (63, array([[25, 15, 34, 15, 25, 66]], dtype=uint8)),\n",
       " (64, array([[25, 15, 34, 15, 25, 66]], dtype=uint8)),\n",
       " (67, array([[25, 15, 34, 15, 25, 66]], dtype=uint8)),\n",
       " (68, array([[15, 25, 34, 25, 15, 66]], dtype=uint8)),\n",
       " (74, array([[25, 15, 34, 15, 25, 66, 15, 25, 34, 25, 15, 66]], dtype=uint8)),\n",
       " (76, array([[15, 25, 34, 25, 15, 66, 15, 25, 34, 25, 15, 66]], dtype=uint8)),\n",
       " (79, array([[15, 25, 34, 25, 15, 66, 15, 25, 34, 25, 15, 66]], dtype=uint8)),\n",
       " (80, array([[25, 15, 34, 15, 25, 66, 15, 25, 34, 25, 15, 66]], dtype=uint8)),\n",
       " (84, array([[25, 15, 34, 15, 25, 66, 15, 25, 34, 25, 15, 66]], dtype=uint8)),\n",
       " (109, array([[25, 15, 34, 15, 25, 66, 25, 15, 34, 15, 25, 66]], dtype=uint8)),\n",
       " (110, array([[15, 25, 34, 25, 15, 66, 25, 15, 34, 15, 25, 66]], dtype=uint8)),\n",
       " (111, array([[15, 25, 34, 25, 15, 66, 25, 15, 34, 15, 25, 66]], dtype=uint8)),\n",
       " (112, array([[15, 25, 34, 25, 15, 66, 25, 15, 34, 15, 25, 66]], dtype=uint8))]"
      ]
     },
     "execution_count": 9,
     "metadata": {},
     "output_type": "execute_result"
    }
   ],
   "source": [
    "\"\"\"\n",
    "index of sessions with a particulat schedule\n",
    "\"\"\"\n",
    "target_schedule = np.array((15,25))\n",
    "\n",
    "idx_target = [ind for ind in idx_nonan\n",
    "       if len(sch.squeeze()[ind][0]) ==3 and np.all(sch.squeeze()[ind][0, 0:2] == target_schedule)\n",
    "       or len(sch.squeeze()[ind][0]) ==6 and (np.all(sch.squeeze()[ind][0, 0:2] == target_schedule) \n",
    "                                              or  np.all(sch.squeeze()[ind][0, 3:5] == target_schedule))\n",
    "       or len(sch.squeeze()[ind][0]) ==9 and (np.all(sch.squeeze()[ind][0, 0:2] == target_schedule) \n",
    "                                              or np.all(sch.squeeze()[ind][0, 3:5] == target_schedule)\n",
    "                                              or np.all(sch.squeeze()[ind][0, 6:8] == target_schedule))\n",
    "       or len(sch.squeeze()[ind][0]) ==12 and (np.all(sch.squeeze()[ind][0, 0:2] == target_schedule) \n",
    "                                              or np.all(sch.squeeze()[ind][0, 3:5] == target_schedule)\n",
    "                                              or np.all(sch.squeeze()[ind][0, 6:8] == target_schedule)\n",
    "                                              or np.all(sch.squeeze()[ind][0, 9:11] == target_schedule))]\n",
    "\n",
    "[(ind + 1, sch.squeeze()[ind]) for ind in idx_target]"
   ]
  },
  {
   "cell_type": "code",
   "execution_count": 10,
   "metadata": {},
   "outputs": [
    {
     "data": {
      "text/plain": [
       "array([ 30,  31,  32,  33,  34,  35,  37,  38,  39,  40,  41,  45,  62,\n",
       "        63,  66,  67,  73,  75,  78,  79,  83, 108, 109, 110, 111])"
      ]
     },
     "execution_count": 10,
     "metadata": {},
     "output_type": "execute_result"
    }
   ],
   "source": [
    "np.array(idx_target).T"
   ]
  },
  {
   "cell_type": "code",
   "execution_count": 11,
   "metadata": {},
   "outputs": [
    {
     "name": "stdout",
     "output_type": "stream",
     "text": [
      "The desired schedule is: [15 25]\n",
      "The session index with desired schedule: \n",
      " [ 30  31  32  33  34  35  37  38  39  40  41  45  62  63  66  67  73  75\n",
      "  78  79  83 108 109 110 111]\n"
     ]
    }
   ],
   "source": [
    "print(\"The desired schedule is:\", target_schedule)\n",
    "print(\"The session index with desired schedule: \\n\", np.array(idx_target).T)"
   ]
  },
  {
   "cell_type": "markdown",
   "metadata": {},
   "source": [
    "# Look into a particular session (ex: 74th sesseion in matlab data)"
   ]
  },
  {
   "cell_type": "code",
   "execution_count": 12,
   "metadata": {
    "pycharm": {
     "name": "#%%\n"
    }
   },
   "outputs": [],
   "source": [
    "sess_use_matlab = 74\n",
    "\n",
    "sess_use = sess_use_matlab - 1\n",
    "b1PushedTimes = data['b1PushedTimes'][0][sess_use][0]\n",
    "b2PushedTimes = data['b2PushedTimes'][0][sess_use][0]\n",
    "\n",
    "rew1DelTimes = data['rew1DelTimes'][0][sess_use][0]\n",
    "rew2DelTimes = data['rew2DelTimes'][0][sess_use][0]\n",
    "\n",
    "bLocX = data['bLocX'][0][sess_use][0].astype(float)\n",
    "bLocY = data['bLocY'][0][sess_use][0].astype(float)\n"
   ]
  },
  {
   "cell_type": "code",
   "execution_count": 13,
   "metadata": {
    "pycharm": {
     "name": "#%%\n"
    }
   },
   "outputs": [],
   "source": [
    "\"\"\"\n",
    "eliminate the bins at the end without location information\n",
    "\"\"\"\n",
    "b1PushedBins = np.rint(b1PushedTimes/binsize).astype(int)\n",
    "b2PushedBins = np.rint(b2PushedTimes/binsize).astype(int)\n",
    "rew1DelBins = np.rint(rew1DelTimes/binsize).astype(int)\n",
    "rew2DelBins = np.rint(rew2DelTimes/binsize).astype(int)"
   ]
  },
  {
   "cell_type": "code",
   "execution_count": 20,
   "metadata": {
    "pycharm": {
     "name": "#%%\n"
    }
   },
   "outputs": [],
   "source": [
    "b1PushedBins = b1PushedBins[np.where(b1PushedBins <= len(bLocX))]\n",
    "b2PushedBins = b2PushedBins[np.where(b2PushedBins <= len(bLocX))]\n",
    "rew1DelBins = rew1DelBins[np.where(rew1DelBins <= len(bLocX))]\n",
    "rew2DelBins = rew2DelBins[np.where(rew2DelBins <= len(bLocX))]"
   ]
  },
  {
   "cell_type": "code",
   "execution_count": 21,
   "metadata": {},
   "outputs": [
    {
     "data": {
      "text/plain": [
       "((65512,), (91,))"
      ]
     },
     "execution_count": 21,
     "metadata": {},
     "output_type": "execute_result"
    }
   ],
   "source": [
    "bLocX.shape"
   ]
  },
  {
   "cell_type": "code",
   "execution_count": 22,
   "metadata": {},
   "outputs": [
    {
     "data": {
      "text/plain": [
       "((109,), (91,))"
      ]
     },
     "execution_count": 22,
     "metadata": {},
     "output_type": "execute_result"
    }
   ],
   "source": [
    "rew1DelBins.shape, rew2DelBins.shape"
   ]
  },
  {
   "cell_type": "code",
   "execution_count": 23,
   "metadata": {},
   "outputs": [
    {
     "data": {
      "text/plain": [
       "((296,), (208,))"
      ]
     },
     "execution_count": 23,
     "metadata": {},
     "output_type": "execute_result"
    }
   ],
   "source": [
    "b1PushedBins.shape, b2PushedBins.shape"
   ]
  },
  {
   "cell_type": "code",
   "execution_count": 24,
   "metadata": {},
   "outputs": [
    {
     "data": {
      "text/plain": [
       "array([15, 25])"
      ]
     },
     "execution_count": 24,
     "metadata": {},
     "output_type": "execute_result"
    }
   ],
   "source": [
    "target_schedule"
   ]
  },
  {
   "cell_type": "code",
   "execution_count": null,
   "metadata": {},
   "outputs": [],
   "source": [
    "rewDelBins = mergeArrays(rew1DelBins, rew2DelBins)\n",
    "rewDel_subsess = [rewDelBins[0:34], rewDelBins[34:100],rewDelBins[100:134],rewDelBins[134:]]"
   ]
  },
  {
   "cell_type": "code",
   "execution_count": null,
   "metadata": {},
   "outputs": [],
   "source": [
    "# time of push and del for each of the sechdules\n",
    "\n",
    "b1PushedBins_subsess = [[], [], [], []]\n",
    "b2PushedBins_subsess = [[], [], [], []]\n",
    "\n",
    "b1PushedBins_subsess_del = [[], [], [], []]\n",
    "b2PushedBins_subsess_del = [[], [], [], []]"
   ]
  },
  {
   "cell_type": "code",
   "execution_count": null,
   "metadata": {},
   "outputs": [],
   "source": [
    "ind = 0\n",
    "for i in range(len(rewDel_subsess)):\n",
    "    start = rewDel_subsess[i][0]   \n",
    "    end = rewDel_subsess[i][-1]\n",
    "    \n",
    "    #print(b1PushedBins[ind], start, end)\n",
    "    while ind < len(b1PushedBins) and b1PushedBins[ind]<= end:\n",
    "        #print('add', b1PushedBins[ind])\n",
    "        b1PushedBins_subsess[i].append(b1PushedBins[ind])\n",
    "        \n",
    "        if (b1PushedBins[ind] in rewDel_subsess[i] or b1PushedBins[ind] + 1 in rewDel_subsess[i]\n",
    "            or b1PushedBins[ind] + 2 in rewDel_subsess[i]\n",
    "            or b1PushedBins[ind] + 3 in rewDel_subsess[i]\n",
    "            or b1PushedBins[ind] + 4 in rewDel_subsess[i]):\n",
    "            b1PushedBins_subsess_del[i].append(b1PushedBins[ind])\n",
    "        \n",
    "        ind += 1\n",
    "          "
   ]
  },
  {
   "cell_type": "code",
   "execution_count": null,
   "metadata": {},
   "outputs": [],
   "source": [
    "ind = 0\n",
    "for i in range(len(rewDel_subsess)):\n",
    "    start = rewDel_subsess[i][0]\n",
    "    end = rewDel_subsess[i][-1]\n",
    "    \n",
    "    #print(b1PushedBins[ind], start, end)\n",
    "    while ind < len(b2PushedBins) and b2PushedBins[ind]<= end:\n",
    "        b2PushedBins_subsess[i].append(b2PushedBins[ind])\n",
    "        \n",
    "        if (b2PushedBins[ind] in rewDel_subsess[i] \n",
    "            or b2PushedBins[ind] + 1 in rewDel_subsess[i] \n",
    "            or b2PushedBins[ind] + 2 in rewDel_subsess[i]\n",
    "            or b2PushedBins[ind] + 3 in rewDel_subsess[i]\n",
    "            or b2PushedBins[ind] + 4 in rewDel_subsess[i]):\n",
    "            b2PushedBins_subsess_del[i].append(b2PushedBins[ind])\n",
    "            \n",
    "        ind += 1\n",
    "          "
   ]
  },
  {
   "cell_type": "code",
   "execution_count": null,
   "metadata": {},
   "outputs": [],
   "source": [
    "print('Schedule of sub-session in the {}-th trial is: {}'.format(sess_use_matlab, sch.squeeze()[sess_use_matlab - 1]))\n",
    "\n",
    "print('Number of button pressing on box 1 in each session: {}'.format([len(i) for i in b1PushedBins_subsess]))\n",
    "print('Number of button pressing on box 2 in each session: {}'.format([len(i) for i in b2PushedBins_subsess]))\n",
    "\n",
    "print('Number of successful button pressing on box 1 in each session: {}'.format([len(i) for i in b1PushedBins_subsess_del]))\n",
    "print('Number of successful button pressing on box 2 in each session: {}'.format([len(i) for i in b2PushedBins_subsess_del]))\n",
    "\n",
    "\n"
   ]
  },
  {
   "cell_type": "code",
   "execution_count": null,
   "metadata": {},
   "outputs": [],
   "source": [
    "#pb_time = np.array(b1PushedBins_subsess[1])"
   ]
  },
  {
   "cell_type": "code",
   "execution_count": null,
   "metadata": {},
   "outputs": [],
   "source": [
    "target_schedule"
   ]
  },
  {
   "cell_type": "code",
   "execution_count": null,
   "metadata": {
    "pycharm": {
     "name": "#%%\n"
    }
   },
   "outputs": [],
   "source": [
    "\"\"\"\n",
    "plot the locations and pb times\n",
    "\"\"\"\n",
    "b1Pushed = np.zeros(len(bLocX))\n",
    "b1Pushed[b1PushedBins] = 500\n",
    "b2Pushed = np.zeros(len(bLocX))\n",
    "b2Pushed[b2PushedBins] = 300\n",
    "plt.plot(bLocX[:])\n",
    "plt.plot(b1Pushed[:], 'r.')\n",
    "plt.plot(b2Pushed[:], 'm.')\n",
    "plt.plot(np.linspace(0, 65000), np.ones(np.linspace(0, 65000).shape) * np.nanmean(bLocX[list(b1PushedBins)]))\n",
    "plt.plot(np.linspace(0, 65000), np.ones(np.linspace(0, 65000).shape) * (np.nanmean(bLocX[list(b1PushedBins)])\n",
    "                                                                        + 3 *np.nanstd(bLocX[list(b1PushedBins)])))\n",
    "plt.plot(np.linspace(0, 65000), np.ones(np.linspace(0, 65000).shape) * (np.nanmean(bLocX[list(b1PushedBins)])\n",
    "                                                                        - 3 *np.nanstd(bLocX[list(b1PushedBins)])))\n",
    "plt.show()"
   ]
  },
  {
   "cell_type": "code",
   "execution_count": null,
   "metadata": {},
   "outputs": [],
   "source": [
    "# bin_idx = np.concatenate((np.arange(bin_idx_range[0][0], bin_idx_range[0][1]), \n",
    "#                           np.arange(bin_idx_range[1][0], bin_idx_range[1][1])))\n",
    "\n",
    "# #bin_idx = np.arange(bin_idx_range[0][0], bin_idx_range[0][1])\n",
    "# bin_idx"
   ]
  },
  {
   "cell_type": "code",
   "execution_count": null,
   "metadata": {
    "pycharm": {
     "name": "#%%\n"
    }
   },
   "outputs": [],
   "source": [
    "\"\"\"\n",
    "BOX1 locations based on actions, filter out the values that are nan or outliers\n",
    "\"\"\"\n",
    "box1push = bLocX[b1PushedBins]\n",
    "mask1  = ~np.isnan(box1push)  # the elements that are not nan\n",
    "mask1[mask1] &= (box1push[mask1] > (np.nanmean(box1push) - 3 * np.nanstd(box1push)))  # elements that are not outlier\n",
    "invalid_idx1 = np.where(mask1 == False)[0] \n",
    "bLocX[b1PushedBins[invalid_idx1]] = np.nan # mark the elements that are either nan or outlier as \"nan\"\n",
    "\n",
    "\"\"\"\n",
    "BOX2 locations, filter out the values that are nan or outliers\n",
    "\"\"\"\n",
    "box2push = bLocX[b2PushedBins]\n",
    "mask2  = ~np.isnan(box2push)  # the elements that are not nan\n",
    "mask2[mask2] &= (box2push[mask2] > (np.nanmean(box2push) - 3 * np.nanstd(box2push)))  # elements that are not outlier\n",
    "invalid_idx2 = np.where(mask2 == False)[0]\n",
    "bLocX[b2PushedBins[invalid_idx2]] = np.nan # mark the elements that are either nan or outlier as \"nan\"\n"
   ]
  },
  {
   "cell_type": "code",
   "execution_count": null,
   "metadata": {},
   "outputs": [],
   "source": []
  },
  {
   "cell_type": "code",
   "execution_count": null,
   "metadata": {
    "pycharm": {
     "name": "#%%\n"
    }
   },
   "outputs": [],
   "source": [
    "\"\"\"\n",
    "nan elements are filled by a smoothing filter that takes average of the previous three elements \n",
    "\"\"\"\n",
    "win_wid = 3\n",
    "bLocX_temp = np.concatenate((np.ones(win_wid) * np.nanmean(bLocX), bLocX))\n",
    "for i in np.where(np.isnan(bLocX) == True)[0]:\n",
    "    bLocX_temp[i+win_wid] = np.mean(bLocX_temp[i:i+win_wid])\n",
    "    \n",
    "bLocX = bLocX_temp[win_wid:]"
   ]
  },
  {
   "cell_type": "code",
   "execution_count": null,
   "metadata": {},
   "outputs": [],
   "source": [
    "\"\"\"\n",
    "The boundaries to descretize the locations are decided by the \n",
    "fartherest location when button push happens\n",
    "\"\"\"\n",
    "box1_boud = min(bLocX[b1PushedBins] )\n",
    "box2_boud = max(bLocX[b2PushedBins] )\n",
    "box1_boud, box2_boud"
   ]
  },
  {
   "cell_type": "code",
   "execution_count": null,
   "metadata": {
    "pycharm": {
     "name": "#%%\n"
    }
   },
   "outputs": [],
   "source": [
    "plt.plot(bLocX[:], bLocY[:], 'b.')\n",
    "plt.plot(bLocX[b1PushedBins], bLocY[b1PushedBins], 'r.')\n",
    "plt.plot(bLocX[b2PushedBins], bLocY[b2PushedBins], 'g.')\n",
    "plt.plot(box1_boud * np.ones(np.linspace(0, 400).shape), np.linspace(0, 400))\n",
    "plt.plot(box2_boud * np.ones(np.linspace(0, 400).shape), np.linspace(0, 400))\n",
    "plt.show()"
   ]
  },
  {
   "cell_type": "code",
   "execution_count": null,
   "metadata": {},
   "outputs": [],
   "source": []
  },
  {
   "cell_type": "code",
   "execution_count": null,
   "metadata": {
    "pycharm": {
     "name": "#%%\n"
    }
   },
   "outputs": [],
   "source": [
    "\"\"\"\n",
    "discretize location as center(loc = 0), box1 (loc = 1) and box2(loc = 2)\n",
    "\n",
    "\"\"\"\n",
    "locT = np.zeros(np.shape(bLocX), dtype = int)        # if at center location, loc = 0\n",
    "locT[np.where(bLocX < box2_boud)] = 2   # at box2 (left side)\n",
    "locT[np.where(bLocX > box1_boud)] = 1   # at box1 (right side)"
   ]
  },
  {
   "cell_type": "code",
   "execution_count": null,
   "metadata": {
    "pycharm": {
     "name": "#%%\n"
    }
   },
   "outputs": [],
   "source": [
    "\"\"\"\n",
    "actions\n",
    "\"\"\"\n",
    "\n",
    "a0 = 0    # a0 = do nothing\n",
    "g0 = 1    # g0 = go to location 0\n",
    "g1 = 2    # g1 = go toward box 1 (via location 0 if from 2)\n",
    "g2 = 3    # g2 = go toward box 2 (via location 0 if from 1\n",
    "pb = 4    # pb  = push button\n",
    "\n",
    "actT = np.zeros(np.shape(bLocX), dtype = int) \n",
    "actT[b1PushedBins] = pb\n",
    "actT[b2PushedBins] = pb\n",
    "#actT[rew1DelBins - 1] = pb\n",
    "#actT[rew2DelBins-1] = pb\n",
    "\n",
    "for t in np.where(locT == 0)[0]:\n",
    "    if t == len(bLocX) - 1:\n",
    "        break\n",
    "    if locT[t+1] == 1:\n",
    "        actT[t] = g1\n",
    "    elif locT[t+1] == 2:\n",
    "        actT[t] = g2\n",
    "\n",
    "for t in np.where(locT == 1)[0]:\n",
    "    if t == len(bLocX) - 1:\n",
    "        break\n",
    "    if locT[t+1] != 1:\n",
    "        actT[t] = g2\n",
    "        \n",
    "for t in np.where(locT == 2)[0]:\n",
    "    if t == len(bLocX) - 1:\n",
    "        break\n",
    "    if locT[t+1] != 2:\n",
    "        actT[t] = g1"
   ]
  },
  {
   "cell_type": "code",
   "execution_count": null,
   "metadata": {},
   "outputs": [],
   "source": [
    "# rew1DelBins_modified = []\n",
    "# for i in b1PushedBins:\n",
    "#     if i in rew1DelBins or i + 1 in rew1DelBins or i+2 in rew1DelBins or i+3 in rew1DelBins or i+4 in rew1DelBins or i+5 in rew1DelBins:\n",
    "#         rew1DelBins_modified.append(i+1)\n",
    "        \n",
    "# rew2DelBins_modified = []\n",
    "# for i in b2PushedBins:\n",
    "#     if i in rew2DelBins or i + 1 in rew2DelBins or i+2 in rew2DelBins or i+3 in rew2DelBins or i+4 in rew2DelBins or i+5 in rew2DelBins:\n",
    "#         rew2DelBins_modified.append(i+1)"
   ]
  },
  {
   "cell_type": "code",
   "execution_count": null,
   "metadata": {
    "pycharm": {
     "name": "#%%\n"
    }
   },
   "outputs": [],
   "source": [
    "\"\"\"\n",
    "rewards\n",
    "\"\"\"\n",
    "rewT = np.zeros(np.shape(bLocX), dtype = int) \n",
    "rewT[rew1DelBins] = 1\n",
    "rewT[rew2DelBins] = 1"
   ]
  },
  {
   "cell_type": "code",
   "execution_count": null,
   "metadata": {},
   "outputs": [],
   "source": [
    "\"\"\"\n",
    "combine data with the same schedule from one session, \n",
    "the list components indicate the starting and ending time of a timeframe,\n",
    "eliminate the first 10 trials after schedule change\n",
    "\"\"\"\n",
    "bin_idx_range = []  # bin range of reward delivery\n",
    "removeFirst = 10\n",
    "start = 0\n",
    "trialBins = mergeArrays(rew1DelBins, rew2DelBins)\n",
    "prev_sess_target = 0   # default is the previous is selected, no need to remove\n",
    "\n",
    "if len(sch.squeeze()[sess_use][0]) >=3:\n",
    "    if np.all(sch.squeeze()[sess_use][0, 0:2] == target_schedule):\n",
    "        valid_DelBins = trialBins[range(start + removeFirst * (1 - prev_sess_target), start + sch.squeeze()[sess_use][0, 2])] \n",
    "        bin_idx_range.append([valid_DelBins[0],valid_DelBins[-1]]) \n",
    "        prev_sess_target = 1\n",
    "    else:\n",
    "        prev_sess_target = 0\n",
    "    start += sch.squeeze()[sess_use][0, 2]    \n",
    "\n",
    "if len(sch.squeeze()[sess_use][0]) >=6:\n",
    "    if np.all(sch.squeeze()[sess_use][0, 3:5] == target_schedule):\n",
    "        valid_DelBins = trialBins[range(start + removeFirst * (1 - prev_sess_target), start + sch.squeeze()[sess_use][0, 5])] \n",
    "        bin_idx_range.append([valid_DelBins[0],valid_DelBins[-1]]) \n",
    "        prev_sess_target = 1\n",
    "    else:\n",
    "        prev_sess_target = 0\n",
    "    start += sch.squeeze()[sess_use][0, 5]\n",
    "\n",
    "\n",
    "if len(sch.squeeze()[sess_use][0]) >= 9:\n",
    "    if np.all(sch.squeeze()[sess_use][0, 6:8] == target_schedule):\n",
    "        valid_DelBins = trialBins[range(start + removeFirst * (1 - prev_sess_target), start + sch.squeeze()[sess_use][0, 8])] \n",
    "        bin_idx_range.append([valid_DelBins[0],valid_DelBins[-1]]) \n",
    "        prev_sess_target = 1\n",
    "    else:\n",
    "        prev_sess_target = 0\n",
    "    start += sch.squeeze()[sess_use][0, 8]\n",
    "    \n",
    "if len(sch.squeeze()[sess_use][0]) >= 12:\n",
    "    if np.all(sch.squeeze()[sess_use][0, 9:11] == target_schedule):\n",
    "        valid_DelBins = trialBins[range(start + removeFirst * (1 - prev_sess_target), start + sch.squeeze()[sess_use][0, 11])] \n",
    "        bin_idx_range.append([valid_DelBins[0],valid_DelBins[-1]]) \n",
    "        prev_sess_target = 1\n",
    "    else:\n",
    "        prev_sess_target = 0\n",
    "    start += sch.squeeze()[sess_use][0, 11]\n",
    "\n",
    "bin_idx_range"
   ]
  },
  {
   "cell_type": "code",
   "execution_count": null,
   "metadata": {},
   "outputs": [],
   "source": [
    "# \"\"\"\n",
    "# combine data with the same schedule from one session, \n",
    "# the list components indicate the starting and ending time of a timeframe,\n",
    "# eliminate the first 10 trials after schedule change\n",
    "# \"\"\"\n",
    "# bin_idx_range = []  # bin range of reward delivery\n",
    "# removeFirst = 10\n",
    "# start = 0\n",
    "# trialBins = mergeArrays(rew1DelBins, rew2DelBins)\n",
    "\n",
    "# if len(sch.squeeze()[sess_use][0]) >=3:\n",
    "#     if np.all(sch.squeeze()[sess_use][0, 0:2] == target_schedule):\n",
    "#         valid_DelBins = trialBins[range(start + removeFirst, start + sch.squeeze()[sess_use][0, 2])] \n",
    "#         bin_idx_range.append([valid_DelBins[0],valid_DelBins[-1]]) \n",
    "#         #print(valid_DelBins)\n",
    "#     start += sch.squeeze()[sess_use][0, 2]\n",
    "        \n",
    "\n",
    "# if len(sch.squeeze()[sess_use][0]) >=6:\n",
    "#     if np.all(sch.squeeze()[sess_use][0, 3:5] == target_schedule):\n",
    "#         valid_DelBins = trialBins[range(start + removeFirst, start + sch.squeeze()[sess_use][0, 5])] \n",
    "#         bin_idx_range.append([valid_DelBins[0],valid_DelBins[-1]]) \n",
    "#         #print(valid_DelBins)\n",
    "#     start += sch.squeeze()[sess_use][0, 5]\n",
    "\n",
    "\n",
    "# if len(sch.squeeze()[sess_use][0]) >= 9:\n",
    "#     if np.all(sch.squeeze()[sess_use][0, 6:8] == target_schedule):\n",
    "#         valid_DelBins = trialBins[range(start + removeFirst, start + sch.squeeze()[sess_use][0, 8])] \n",
    "#         bin_idx_range.append([valid_DelBins[0],valid_DelBins[-1]]) \n",
    "#         #print(valid_DelBins)\n",
    "#     start += sch.squeeze()[sess_use][0, 8]\n",
    "    \n",
    "# if len(sch.squeeze()[sess_use][0]) >= 12:\n",
    "#     if np.all(sch.squeeze()[sess_use][0, 9:11] == target_schedule):\n",
    "#         valid_DelBins = trialBins[range(start + removeFirst, start + sch.squeeze()[sess_use][0, 11])] \n",
    "#         bin_idx_range.append([valid_DelBins[0],valid_DelBins[-1]]) \n",
    "#         #print(valid_DelBins)\n",
    "#     start += sch.squeeze()[sess_use][0, 11]\n",
    "\n",
    "# bin_idx_range"
   ]
  },
  {
   "cell_type": "code",
   "execution_count": null,
   "metadata": {},
   "outputs": [],
   "source": [
    "lower1 = bin_idx_range[0][0]\n",
    "upper1 = bin_idx_range[0][1]\n",
    "bin_idx1 = np.arange(lower1, upper1)\n",
    "\n",
    "fig1, (ax1, ax2) = plt.subplots(2,1, figsize = (18,9))\n",
    "ax1.plot(bin_idx1, bLocX[bin_idx1], 'b')\n",
    "ax1.plot(b1PushedBins[(b1PushedBins >= lower1) & (b1PushedBins <= upper1)],\n",
    "         bLocX[b1PushedBins[(b1PushedBins >= lower1) & (b1PushedBins <= upper1)]], 'r.')\n",
    "ax1.plot(b2PushedBins[(b2PushedBins >= lower1) & (b2PushedBins <= upper1)],\n",
    "         bLocX[b2PushedBins[(b2PushedBins >= lower1) & (b2PushedBins <= upper1)]], 'm.')\n",
    "ax1.plot(rew1DelBins[(rew1DelBins >= lower1) & (rew1DelBins <= upper1)],\n",
    "         bLocX[rew1DelBins[(rew1DelBins >= lower1) & (rew1DelBins <= upper1)]], 'g*')\n",
    "ax1.plot(rew2DelBins[(rew2DelBins >= lower1) & (rew2DelBins <= upper1)],\n",
    "         bLocX[rew2DelBins[(rew2DelBins >= lower1) & (rew2DelBins <= upper1)]], 'c*')\n",
    "#ax1.plot(bin_idx1, locT[bin_idx1] * 200, 'g*')\n",
    "ax1.plot(np.linspace(lower1, upper1), np.ones(np.linspace(lower1, upper1).shape) * box1_boud)\n",
    "ax1.plot(np.linspace(lower1, upper1), np.ones(np.linspace(lower1, upper1).shape) * box2_boud)\n",
    "ax1.yaxis.tick_right()\n",
    "ax1.set_yticks([box2_boud, box1_boud])\n",
    "labels = [item.get_text() for item in ax1.get_yticklabels()]\n",
    "labels[1] = 'box1'\n",
    "labels[0] = 'box2'\n",
    "ax1.set_yticklabels(labels)\n",
    "ax1.set_title('behavior in the 1st sub-session')\n",
    "ax1.set_ylabel('location (along the cage)')\n",
    "\n",
    "lower2 = bin_idx_range[1][0]\n",
    "upper2 = bin_idx_range[1][1]\n",
    "bin_idx2 = np.arange(lower2, upper2)\n",
    "\n",
    "ax2.plot(bin_idx2, bLocX[bin_idx2], 'b', label = 'location' )\n",
    "ax2.plot(b1PushedBins[(b1PushedBins >= lower2) & (b1PushedBins <= upper2)],\n",
    "         bLocX[b1PushedBins[(b1PushedBins >= lower2) & (b1PushedBins <= upper2)]], 'r.', label = 'open box 1')\n",
    "ax2.plot(b2PushedBins[(b2PushedBins >= lower2) & (b2PushedBins <= upper2)],\n",
    "         bLocX[b2PushedBins[(b2PushedBins >= lower2) & (b2PushedBins <= upper2)]], 'm.', label = 'open box 2')\n",
    "ax2.plot(rew1DelBins[(rew1DelBins >= lower2) & (rew1DelBins <= upper2)],\n",
    "         bLocX[rew1DelBins[(rew1DelBins >= lower2) & (rew1DelBins <= upper2)]], 'g*')\n",
    "ax2.plot(rew2DelBins[(rew2DelBins >= lower2) & (rew2DelBins <= upper2)],\n",
    "         bLocX[rew2DelBins[(rew2DelBins >= lower2) & (rew2DelBins <= upper2)]], 'c*')\n",
    "ax2.plot(np.linspace(lower2, upper2), np.ones(np.linspace(lower2, upper2).shape) * box1_boud)\n",
    "ax2.plot(np.linspace(lower2, upper2), np.ones(np.linspace(lower2, upper2).shape) * box2_boud)\n",
    "ax2.yaxis.tick_right()\n",
    "ax2.set_yticks([box2_boud, box1_boud])\n",
    "labels = [item.get_text() for item in ax2.get_yticklabels()]\n",
    "labels[1] = 'box1'\n",
    "labels[0] = 'box2'\n",
    "ax2.set_yticklabels(labels)\n",
    "ax2.legend(loc = 'upper right')\n",
    "\n",
    "ax2.set_title('behavior in the 2nd sub-session')\n",
    "ax2.set_ylabel('location (along the cage)')\n",
    "ax2.set_xlabel('time')\n",
    "plt.show()"
   ]
  },
  {
   "cell_type": "code",
   "execution_count": null,
   "metadata": {},
   "outputs": [],
   "source": [
    "# \"\"\"\n",
    "# save pre-processed data to file\n",
    "# \"\"\"\n",
    "# path = os.getcwd()\n",
    "# data_dict = {'actions': actT,\n",
    "#              'rewards': rewT,\n",
    "#              'locations': locT,\n",
    "#             'bin_idx_range': bin_idx_range,\n",
    "#             'target_schedule': target_schedule}\n",
    "# data_output = open(path + '/twoboxTask/Data/monkey_twobox_preprocessed.pkl', 'wb')\n",
    "# pickle.dump(data_dict, data_output)\n",
    "# data_output.close()"
   ]
  },
  {
   "cell_type": "code",
   "execution_count": null,
   "metadata": {},
   "outputs": [],
   "source": [
    "\"\"\"\n",
    "stack inforamtion from one session\n",
    "combine differnet time frames, padded with zero inbetween\n",
    "\"\"\"\n",
    "# actTT = np.hstack((actT[range(bin_idx_range[0][0], bin_idx_range[0][1]+1)], 0, \n",
    "#                               actT[range(bin_idx_range[1][0], bin_idx_range[1][1]+1)]))\n",
    "# rewTT = np.hstack((rewT[range(bin_idx_range[0][0], bin_idx_range[0][1]+1)], 0, \n",
    "#                              rewT[range(bin_idx_range[1][0], bin_idx_range[1][1]+1)]))\n",
    "# locTT = np.hstack((locT[range(bin_idx_range[0][0], bin_idx_range[0][1]+1)], 0, \n",
    "#                              locT[range(bin_idx_range[1][0], bin_idx_range[1][1]+1)]))\n",
    "\n",
    "# actTT = np.hstack((actT[bin_idx2]))\n",
    "# rewTT = np.hstack((rewT[bin_idx2]))\n",
    "# locTT = np.hstack((locT[bin_idx2]))\n",
    "\n",
    "\"\"\"\n",
    "consider subsessions where the animals incolce actively\n",
    "\"\"\"\n",
    "# actTT = np.hstack((actT[range(17000, bin_idx_range[0][1])]))\n",
    "# rewTT = np.hstack((rewT[range(17000, bin_idx_range[0][1])]))\n",
    "# locTT = np.hstack((locT[range(17000, bin_idx_range[0][1])]))\n",
    "\n",
    "actTT = np.hstack((actT[range(bin_idx_range[1][0], 48000)]))\n",
    "rewTT = np.hstack((rewT[range(bin_idx_range[1][0], 48000)]))\n",
    "locTT = np.hstack((locT[range(bin_idx_range[1][0], 48000)]))\n",
    "\n",
    "obsTT = (np.vstack([actTT, rewTT, locTT]).T)"
   ]
  },
  {
   "cell_type": "code",
   "execution_count": null,
   "metadata": {
    "pycharm": {
     "name": "#%%\n"
    }
   },
   "outputs": [],
   "source": [
    "T = obsTT.shape[0]\n",
    "\n",
    "obs = obsTT[:T, :]\n",
    "\n",
    "\n",
    "act = obs[:, 0]\n",
    "rew = obs[:, 1]\n",
    "loc = obs[:, 2]"
   ]
  },
  {
   "cell_type": "code",
   "execution_count": null,
   "metadata": {},
   "outputs": [],
   "source": [
    "showlen = T\n",
    "showT = np.arange(showlen)\n",
    "fig_posterior, ax_loc = plt.subplots(1, 1, figsize= (10, 4))\n",
    "\n",
    "ax_loc.plot((np.remainder(loc[showT]+1, 3) - 1 ) * 10, 'g.-', markersize = 8, linewidth = 3)\n",
    "box1_r = act[showT] // 4 * 7 * np.remainder(loc[showT]+1, 3) * np.insert(rew[showT][1:], -1, 0) * 1.0 \n",
    "box2_r = act[showT] // 4 * 7 * (np.remainder(loc[showT]+1, 3) - 2) * np.insert(rew[showT][1:], -1, 0) * 1.0\n",
    "box1_n = act[showT] // 4 * 7 * np.remainder(loc[showT]+1, 3) * (1-np.insert(rew[showT][1:], -1, 0))* 1.0 * (loc[showT] != 0)\n",
    "box2_n = act[showT] // 4 * 7 * ((np.remainder(loc[showT]+1, 3) - 2) * (1-np.insert(rew[showT][1:], -1, 0)))* 1.0 * (loc[showT] != 0)\n",
    "box1_r[ box1_r==0 ] = np.nan\n",
    "box2_n[ box2_n==0 ] = np.nan\n",
    "box2_r[ box2_r==0 ] = np.nan\n",
    "box1_n[ box1_n==0 ] = np.nan\n",
    "ax_loc.plot(box2_r, '^', c = 'red', markersize = 15)\n",
    "ax_loc.plot(box1_n, 'v', c = 'blue', markersize = 15)\n",
    "ax_loc.plot(box2_n, '^', c = 'blue', markersize = 15)\n",
    "ax_loc.plot(box1_r, 'v', c = 'red', markersize = 15)\n",
    "\n",
    "ax_loc.set_xlim([0,showlen])\n",
    "ax_loc.spines['top'].set_visible(False)\n",
    "ax_loc.spines['right'].set_visible(False)\n",
    "ax_loc.spines['bottom'].set_visible(False)\n",
    "ax_loc.spines['left'].set_visible(False)\n",
    "#ax_loc.set_ylim([1,16])\n",
    "ax_loc.set_yticks([])\n",
    "#ax_loc.set_xticks([])\n",
    "\n",
    "\n",
    "\n",
    "plt.tight_layout()\n",
    "plt.show()\n",
    "\n"
   ]
  },
  {
   "cell_type": "code",
   "execution_count": null,
   "metadata": {},
   "outputs": [],
   "source": [
    "# print(temp)"
   ]
  },
  {
   "cell_type": "markdown",
   "metadata": {},
   "source": [
    "# IRC"
   ]
  },
  {
   "cell_type": "code",
   "execution_count": null,
   "metadata": {
    "scrolled": true
   },
   "outputs": [],
   "source": [
    "obsN = np.expand_dims(obs, axis=0)"
   ]
  },
  {
   "cell_type": "code",
   "execution_count": null,
   "metadata": {},
   "outputs": [],
   "source": [
    "# beta = 0                         # available food dropped back into box after button press\n",
    "# gamma1 = self.parameters[0]      # reward becomes available in box 1\n",
    "# gamma2 = self.parameters[1]      # reward becomes available in box 2\n",
    "# delta = 0                        # animal trips, doesn't go to target location\n",
    "# direct = self.parameters[7]      # animal goes right to target, skipping location 0\n",
    "# epsilon1 = 0 #self.parameters[2] # available food disappears from box 1\n",
    "# epsilon2 = 0 #self.parameters[3] # available food disappears from box 2\n",
    "# rho = 1                          # food in mouth is consumed\n",
    "# # State rewards\n",
    "# Reward = 1                       # reward per time step with food in mouth\n",
    "# Groom = self.parameters[2]       # location 0 reward\n",
    "\n",
    "# # Action costs\n",
    "# travelCost = self.parameters[3]\n",
    "# pushButtonCost = self.parameters[4]\n",
    "# sigmaTb = self.parameters[6]"
   ]
  },
  {
   "cell_type": "code",
   "execution_count": null,
   "metadata": {
    "pycharm": {
     "name": "#%%\n"
    }
   },
   "outputs": [],
   "source": [
    "nq = 10\n",
    "nr = 2\n",
    "nl = 3\n",
    "na = 5\n",
    "discount = 0.99"
   ]
  },
  {
   "cell_type": "code",
   "execution_count": null,
   "metadata": {},
   "outputs": [],
   "source": [
    "sample_length = len(obs)\n",
    "sample_number = 1\n",
    "\n",
    "app_rate1_ini = 0.0577\n",
    "disapp_rate1_ini = .0232\n",
    "app_rate2_ini = 0.0859\n",
    "disapp_rate2_ini = .0182\n",
    "food_missed_ini = .1193  # 0\n",
    "food_consumed_ini = .9331  # 1\n",
    "belief_diffusion_ini = .0380  # 0.03827322 # .1\n",
    "policy_temperature_ini = .2034  # 0.15768841  # .06\n",
    "push_button_cost_ini = .3244  # 0.40363519  # .2\n",
    "grooming_reward_ini = .0130  # 0.20094441  # .3\n",
    "travel_cost_ini = .3951  # 0.3033027  # .1\n",
    "trip_prob_ini = .0453\n",
    "direct_prob_ini = 0.1954  # .1\n",
    "\n",
    "app_rate1_ini = torch.autograd.Variable(torch.tensor([app_rate1_ini]), requires_grad=True)\n",
    "disapp_rate1_ini = torch.autograd.Variable(torch.tensor([disapp_rate1_ini]), requires_grad=True)\n",
    "app_rate2_ini = torch.autograd.Variable(torch.tensor([app_rate2_ini]), requires_grad=True)\n",
    "disapp_rate2_ini = torch.autograd.Variable(torch.tensor([disapp_rate2_ini]), requires_grad=True)\n",
    "food_missed_ini = torch.autograd.Variable(torch.tensor([food_missed_ini]), requires_grad=True)  # 0\n",
    "food_consumed_ini = torch.autograd.Variable(torch.tensor([food_consumed_ini]), requires_grad=True)  # .99 #1\n",
    "belief_diffusion_ini = torch.autograd.Variable(torch.tensor([belief_diffusion_ini]), requires_grad=True)  # .1\n",
    "policy_temperature_ini = torch.autograd.Variable(torch.tensor([policy_temperature_ini]), requires_grad=True)  # .061\n",
    "push_button_cost_ini = torch.autograd.Variable(torch.tensor([push_button_cost_ini]), requires_grad=True)  # .3\n",
    "grooming_reward_ini = torch.autograd.Variable(torch.tensor([grooming_reward_ini]), requires_grad=True)  # .3\n",
    "travel_cost_ini = torch.autograd.Variable(torch.tensor([travel_cost_ini]), requires_grad=True)  # .3\n",
    "direct_prob_ini = torch.autograd.Variable(torch.tensor([direct_prob_ini]), requires_grad=True)  # .3\n",
    "trip_prob_ini = torch.autograd.Variable(torch.tensor([trip_prob_ini]), requires_grad=True)  # .3\n",
    "\n",
    "point_ini = collections.OrderedDict()\n",
    "point_ini['food_missed'] = food_missed_ini\n",
    "point_ini['app_rate1'] = app_rate1_ini\n",
    "point_ini['disapp_rate1'] = disapp_rate1_ini\n",
    "point_ini['app_rate2'] = app_rate2_ini\n",
    "point_ini['disapp_rate2'] = disapp_rate2_ini\n",
    "point_ini['food_consumed'] = food_consumed_ini\n",
    "point_ini['push_button_cost'] = push_button_cost_ini\n",
    "point_ini['belief_diffusion'] = belief_diffusion_ini\n",
    "point_ini['policy_temperature'] = policy_temperature_ini\n",
    "point_ini['direct_prob'] = direct_prob_ini\n",
    "point_ini['trip_prob'] = trip_prob_ini\n",
    "point_ini['grooming_reward'] = grooming_reward_ini\n",
    "point_ini['travel_cost'] = travel_cost_ini"
   ]
  },
  {
   "cell_type": "code",
   "execution_count": null,
   "metadata": {},
   "outputs": [],
   "source": [
    "LR = 10**-6*1\n",
    "EPS = 0.1\n",
    "BATCH_SIZE = 1"
   ]
  },
  {
   "cell_type": "code",
   "execution_count": null,
   "metadata": {},
   "outputs": [],
   "source": [
    "IRC_monkey = twobox_IRC_torch(discount, nq, nr, na, nl, point_ini)"
   ]
  },
  {
   "cell_type": "code",
   "execution_count": null,
   "metadata": {},
   "outputs": [],
   "source": [
    "IRC_monkey.IRC_batch(obsN[:, :1000, :], lr=LR, eps=EPS, batch_size=BATCH_SIZE, shuffle=True)\n",
    "print(IRC_monkey.log_likelihood_traj[-1])"
   ]
  },
  {
   "cell_type": "code",
   "execution_count": null,
   "metadata": {},
   "outputs": [],
   "source": [
    "plt.plot(IRC_monkey.log_likelihood_traj)\n",
    "plt.show()"
   ]
  },
  {
   "cell_type": "code",
   "execution_count": null,
   "metadata": {},
   "outputs": [],
   "source": [
    "print(temp)"
   ]
  },
  {
   "cell_type": "markdown",
   "metadata": {},
   "source": [
    "# posterior of beliefs"
   ]
  },
  {
   "cell_type": "code",
   "execution_count": null,
   "metadata": {},
   "outputs": [],
   "source": [
    "para_test"
   ]
  },
  {
   "cell_type": "code",
   "execution_count": null,
   "metadata": {
    "pycharm": {
     "is_executing": false
    }
   },
   "outputs": [],
   "source": [
    "twobox_est = twoboxMDP(discount, nq, nr, na, nl, para_test)\n",
    "twobox_est.setupMDP()\n",
    "twobox_est.solveMDP_sfm()\n",
    "ThA = twobox_est.ThA\n",
    "softpolicy = twobox_est.softpolicy\n",
    "pi = np.ones(nq * nq)/ nq /nq  # initialize the estimation of the belief state\n",
    "twoHMM_est = HMMtwobox(ThA, softpolicy, pi)"
   ]
  },
  {
   "cell_type": "code",
   "execution_count": null,
   "metadata": {
    "pycharm": {
     "is_executing": false
    }
   },
   "outputs": [],
   "source": [
    "alpha_est, scale_est = twoHMM_est.forward_scale(obs)\n",
    "beta_est = twoHMM_est.backward_scale(obs, scale_est)\n",
    "gamma_est = twoHMM_est.compute_gamma(alpha_est, beta_est)\n",
    "xi_est = twoHMM_est.compute_xi(alpha_est, beta_est, obs)\n"
   ]
  },
  {
   "cell_type": "code",
   "execution_count": null,
   "metadata": {
    "pycharm": {
     "is_executing": false
    }
   },
   "outputs": [],
   "source": [
    "belief1_est = np.sum(np.reshape(gamma_est[:, ].T, (gamma_est.shape[1], nq, nq)), axis = 2)\n",
    "belief2_est = np.sum(np.reshape(gamma_est[:, ].T, (gamma_est.shape[1], nq, nq)), axis = 1)\n",
    "\n",
    "# belief1_est = np.sum(np.reshape(alpha_est[:, ].T, (alpha_est.shape[1], nq, nq)), axis = 2)\n",
    "# belief2_est = np.sum(np.reshape(alpha_est[:, ].T, (alpha_est.shape[1], nq, nq)), axis = 1)\n"
   ]
  },
  {
   "cell_type": "code",
   "execution_count": null,
   "metadata": {
    "pycharm": {
     "is_executing": false
    }
   },
   "outputs": [],
   "source": [
    "# showlen = 500\n",
    "# startT = 0\n",
    "# showT = range(startT,startT+showlen)\n"
   ]
  },
  {
   "cell_type": "code",
   "execution_count": null,
   "metadata": {},
   "outputs": [],
   "source": [
    "#fig_posterior = plt.figure(figsize= (15, 10))\n",
    "\n",
    "showlen = T // 1\n",
    "startT = T // 1 * (1-1)\n",
    "\n",
    "endT = startT + showlen\n",
    "showT = range(startT,endT)\n",
    "\n",
    "fig, [ax1, ax_loc, ax2] = plt.subplots(3, 1, figsize= (10, 6))\n",
    "\n",
    "ax1.imshow(belief1_est[showT].T, interpolation='Nearest', cmap='gray', origin='lower', aspect='auto')\n",
    "ax1.yaxis.set_label_coords(-0.1,0.25)\n",
    "ax1.set_ylabel('Belief posterior \\n about box 1', rotation= 360, fontsize = 15)\n",
    "ax1.set_yticks([0, nq-1])\n",
    "ax1.set_yticklabels(['0','1'])\n",
    "ax1.tick_params(axis='both', which='major', labelsize=18)\n",
    "ax1.spines['top'].set_visible(False)\n",
    "ax1.spines['right'].set_visible(False)\n",
    "ax1.spines['bottom'].set_visible(False)\n",
    "ax1.spines['left'].set_visible(False)\n",
    "ax1.set_xlim([0,showlen])\n",
    "\n",
    "ax_loc.plot((np.remainder(loc[showT]+1, 3) - 1 ) * 10, 'g-o', markersize = 3)\n",
    "box1_r = act[showT] // 4 * 7 * np.remainder(loc[showT]+1, 3) * np.insert(rew[showT][1:], -1, 0) * 1.0\n",
    "box2_r = act[showT] // 4 * 7 * (np.remainder(loc[showT]+1, 3) - 2) * np.insert(rew[showT][1:], -1, 0) * 1.0\n",
    "box1_n = act[showT] // 4 * 7 * np.remainder(loc[showT]+1, 3) * (1-np.insert(rew[showT][1:], -1, 0))* 1.0\n",
    "box2_n = act[showT] // 4 * 7 * ((np.remainder(loc[showT]+1, 3) - 2) * (1-np.insert(rew[showT][1:], -1, 0)))* 1.0\n",
    "box1_r[ box1_r==0 ] = np.nan\n",
    "box2_n[ box2_n==0 ] = np.nan\n",
    "box2_r[ box2_r==0 ] = np.nan\n",
    "box1_n[ box1_n==0 ] = np.nan\n",
    "ax_loc.plot(box2_r, '^', c = 'red', markersize = 10)\n",
    "ax_loc.plot(box1_n, 'v', c = 'blue', markersize = 10)\n",
    "ax_loc.plot(box2_n, '^', c = 'blue', markersize = 10)\n",
    "ax_loc.plot(box1_r, 'v', c = 'red', markersize = 10)\n",
    "ax_loc.set_xlim([0,showlen])\n",
    "ax_loc.spines['top'].set_visible(False)\n",
    "ax_loc.spines['right'].set_visible(False)\n",
    "ax_loc.spines['bottom'].set_visible(False)\n",
    "ax_loc.spines['left'].set_visible(False)\n",
    "ax_loc.set_yticks([])\n",
    "\n",
    "ax2.imshow(belief2_est[showT].T, interpolation='Nearest', cmap='gray', origin='lower',aspect='auto')\n",
    "ax2.set_xlabel('time', fontsize = 18)\n",
    "ax2.yaxis.set_label_coords(-0.1,0.25)\n",
    "ax2.set_ylabel('Belief posterior \\n about box 2', rotation= 360, fontsize = 15)\n",
    "ax2.tick_params(axis='both', which='major', labelsize=18)\n",
    "ax2.set_yticks([0, nq-1])\n",
    "ax2.set_yticklabels(['0','1'])\n",
    "ax2.set_xlim([0,showlen])\n",
    "\n",
    "\n",
    "plt.tight_layout()\n",
    "plt.show()\n",
    "\n"
   ]
  },
  {
   "cell_type": "code",
   "execution_count": null,
   "metadata": {},
   "outputs": [],
   "source": [
    "belief_vector = (np.arange(nq) + 1/2)/nq\n",
    "belief_vector"
   ]
  },
  {
   "cell_type": "code",
   "execution_count": null,
   "metadata": {},
   "outputs": [],
   "source": [
    "belief1_postmean = belief1_est.dot(belief_vector)\n",
    "belief2_postmean = belief2_est.dot(belief_vector)\n",
    "\n",
    "belief1_est_MAP = (np.argmax(belief1_est, axis = 1) + 0.5)/nq\n",
    "belief2_est_MAP = (np.argmax(belief2_est, axis = 1) + 0.5)/nq"
   ]
  },
  {
   "cell_type": "code",
   "execution_count": null,
   "metadata": {},
   "outputs": [],
   "source": [
    "plt.plot(belief1_postmean)\n",
    "plt.show()"
   ]
  },
  {
   "cell_type": "code",
   "execution_count": null,
   "metadata": {},
   "outputs": [],
   "source": [
    "startSess = lower2  # The start of blocks of trials with target schedule in a session\n",
    "trueProb1 = np.zeros(upper2 - startSess)  # true probabilities of box 1, for the whole block of trials with target schedule\n",
    "trueProb2 = np.zeros(upper2 - startSess)\n",
    "\n",
    "trueProb1_agent = np.zeros(upper2 - startSess)  # true probabilities of box 1, for the whole block of trials with target schedule\n",
    "trueProb2_agent = np.zeros(upper2 - startSess)\n",
    "\n",
    "\n",
    "pressBin1 = b1PushedBins[np.where((b1PushedBins >= lower2) & (b1PushedBins <= upper2))]\n",
    "pressBin2 = b2PushedBins[np.where((b2PushedBins >= lower2) & (b2PushedBins <= upper2))]\n",
    "\n",
    "trueProb1[0 : pressBin1[0]- startSess] = 1 - np.exp(-1/target_schedule[0] * (200/1000) * range(pressBin1[0]- startSess))\n",
    "for i in range(len(pressBin1[1:])):\n",
    "    trueProb1[pressBin1[i - 1]- startSess : pressBin1[i]- startSess] = \\\n",
    "    1 - np.exp(-1/target_schedule[0] * (200/1000) * range(pressBin1[i]- pressBin1[i-1]))\n",
    "\n",
    "trueProb2[0:pressBin2[0]- startSess] = 1 - np.exp(-1/target_schedule[1] * (200/1000) * range(pressBin2[0]- startSess))\n",
    "for i in range(len(pressBin2[1:])):\n",
    "    trueProb2[pressBin2[i - 1]- startSess : pressBin2[i]- startSess] = \\\n",
    "    1 - np.exp(-1/target_schedule[1] * (200/1000) * range(pressBin2[i] - pressBin2[i-1]))\n",
    "\n",
    "\n",
    "rate0 = (-1/np.log(1 - para_est[0]))/5\n",
    "rate1 = (-1/np.log(1 - para_est[1]))/5\n",
    "trueProb1_agent[0 : pressBin1[0]- startSess] = 1 - np.exp(-1/target_schedule[0] * (200/1000) * range(pressBin1[0]- startSess))\n",
    "for i in range(len(pressBin1[1:])):\n",
    "    trueProb1_agent[pressBin1[i - 1]- startSess : pressBin1[i]- startSess] = \\\n",
    "    1 - np.exp(-1/rate0 * (200/1000) * range(pressBin1[i]- pressBin1[i-1]))\n",
    "\n",
    "trueProb2_agent[0:pressBin2[0]- startSess] = 1 - np.exp(-1/target_schedule[1] * (200/1000) * range(pressBin2[0]- startSess))\n",
    "for i in range(len(pressBin2[1:])):\n",
    "    trueProb2_agent[pressBin2[i - 1]- startSess : pressBin2[i]- startSess] = \\\n",
    "    1 - np.exp(-1/rate1 * (200/1000) * range(pressBin2[i] - pressBin2[i-1]))\n",
    "\n"
   ]
  },
  {
   "cell_type": "code",
   "execution_count": null,
   "metadata": {},
   "outputs": [],
   "source": []
  },
  {
   "cell_type": "code",
   "execution_count": null,
   "metadata": {},
   "outputs": [],
   "source": []
  },
  {
   "cell_type": "markdown",
   "metadata": {},
   "source": [
    "real data, can try on simulated one box task first to understand the dynamic\n",
    "\n",
    "1. allowing disapperaing rate, would increase likelihood\n",
    "\n",
    "2. belief temperature \n",
    "\n",
    "3. both\n",
    "\n",
    "4. lapse rate "
   ]
  },
  {
   "cell_type": "code",
   "execution_count": null,
   "metadata": {},
   "outputs": [],
   "source": [
    "f, axes = plt.subplots(2,2, figsize = (10,10))\n",
    "\n",
    "axes[0,0].plot(trueProb1[lower2 - startSess : lower2 - startSess + T], 'b', label = 'reward probability (world parameter)')\n",
    "axes[0,0].plot(belief1_postmean, 'm', label = 'belief posterior mean')\n",
    "axes[0,0].plot(trueProb1_agent[lower2 - startSess : lower2 - startSess + T], 'r', label = 'reward probability (agent parameter) ')\n",
    "axes[0,0].set_title('box 1')\n",
    "axes[0,0].set_xlabel('time')\n",
    "axes[0,0].set_ylabel('true probability vs mean belief posterior')\n",
    "legend = axes[0,0].legend(loc='lower center', shadow=True)\n",
    "#legend.get_frame().set_facecolor('C0')\n",
    "\n",
    "axes[0,1].scatter(trueProb1[lower2 - startSess : lower2 - startSess + T], belief1_postmean)\n",
    "axes[0,1].set_title('box 1')\n",
    "axes[0,1].set_ylabel('mean belief posterior')\n",
    "axes[0,1].set_xlabel('true probability')\n",
    "\n",
    "axes[1,0].plot(trueProb2[lower2 - startSess : lower2 - startSess + T], label = 'reward probability (world parameter)')\n",
    "axes[1,0].plot(belief2_postmean, label = 'belief posterior mean')\n",
    "axes[1,0].plot(trueProb2_agent[lower2 - startSess : lower2 - startSess + T], label = 'reward probability (agent parameter)')\n",
    "axes[1,0].set_title('box 2')\n",
    "axes[1,0].set_xlabel('time')\n",
    "axes[1,0].set_ylabel('true probability vs mean belief posterior')\n",
    "axes[1,0].legend(loc='lower center', shadow=True)\n",
    "\n",
    "\n",
    "axes[1,1].scatter(trueProb2[lower2 - startSess : lower2 - startSess + T], belief2_postmean)\n",
    "axes[1,1].set_title('box 2')\n",
    "axes[1,1].set_ylabel('mean belief posterior')\n",
    "axes[1,1].set_xlabel('true probability')\n",
    "\n",
    "#f.savefig('belief_rewProb.pdf', format='pdf')\n",
    "\n",
    "plt.show()\n"
   ]
  },
  {
   "cell_type": "code",
   "execution_count": null,
   "metadata": {
    "pycharm": {
     "is_executing": false
    }
   },
   "outputs": [],
   "source": [
    "#np.savetxt('data.csv', np.hstack((belief1_est, belief2_est)), delimiter=',')"
   ]
  },
  {
   "cell_type": "code",
   "execution_count": null,
   "metadata": {},
   "outputs": [],
   "source": [
    "%who"
   ]
  },
  {
   "cell_type": "code",
   "execution_count": null,
   "metadata": {},
   "outputs": [],
   "source": [
    "IRC_monkey"
   ]
  },
  {
   "cell_type": "code",
   "execution_count": null,
   "metadata": {},
   "outputs": [],
   "source": [
    "from datetime import datetime\n",
    "import os\n",
    "import pickle\n",
    "\n",
    "path = os.getcwd()\n",
    "\n",
    "IRC_dict = {#'LL_slice': LL_slice,\n",
    "            'log_likelihood_all': log_likelihood_all,\n",
    "            'point_all': point_all,\n",
    "            'uValue': IRC_monkey.uValue,\n",
    "            'vValue': IRC_monkey.vValue,\n",
    "            'contour_LL_mesh': IRC_monkey.contour_LL_mesh\n",
    "            }\n",
    "\n",
    "# # create a file that saves the parameter dictionary using pickle\n",
    "# para_output = open(path + '/Results/08132019(0014)_data08132019(0013)_agentNN08132019(0026)' + '_IRC0plane'+'_twoboxCol' + '.pkl', 'wb')\n",
    "\n",
    "\n",
    "para_output = open(path + '/Results/1009_IRC'+ str(2) + '.pkl', 'wb')\n",
    "pickle.dump(IRC_dict, para_output)\n",
    "para_output.close()"
   ]
  },
  {
   "cell_type": "code",
   "execution_count": null,
   "metadata": {},
   "outputs": [],
   "source": []
  },
  {
   "cell_type": "markdown",
   "metadata": {},
   "source": [
    "# Compare IRC results"
   ]
  },
  {
   "cell_type": "code",
   "execution_count": null,
   "metadata": {},
   "outputs": [],
   "source": [
    "import os\n",
    "import pickle\n",
    "import numpy as np\n",
    "import matplotlib.pyplot as plt \n",
    "path = os.getcwd()\n",
    "\n"
   ]
  },
  {
   "cell_type": "code",
   "execution_count": null,
   "metadata": {},
   "outputs": [],
   "source": [
    "\"\"\"\n",
    "import IRC data 1\n",
    "\"\"\"\n",
    "dataN_pkl_file_IRC1 = open(path + '/Results/1009_IRC'+ str(1) + '.pkl', 'rb')\n",
    "dataN_pkl_IRC1 = pickle.load(dataN_pkl_file_IRC1)\n",
    "dataN_pkl_file_IRC1.close()"
   ]
  },
  {
   "cell_type": "code",
   "execution_count": null,
   "metadata": {},
   "outputs": [],
   "source": [
    "\"\"\"\n",
    "import IRC data 2\n",
    "\"\"\"\n",
    "dataN_pkl_file_IRC2 = open(path + '/Results/1009_IRC'+ str(2) + '.pkl', 'rb')\n",
    "dataN_pkl_IRC2 = pickle.load(dataN_pkl_file_IRC2)\n",
    "dataN_pkl_file_IRC2.close()"
   ]
  },
  {
   "cell_type": "code",
   "execution_count": null,
   "metadata": {},
   "outputs": [],
   "source": [
    "point_ini1 = dataN_pkl_IRC1['point_all'][0]\n",
    "point_est1 = dataN_pkl_IRC1['point_all'][-1]\n",
    "point_ini2 = dataN_pkl_IRC2['point_all'][0]\n",
    "point_est2 = dataN_pkl_IRC2['point_all'][-1]"
   ]
  },
  {
   "cell_type": "code",
   "execution_count": null,
   "metadata": {},
   "outputs": [],
   "source": [
    "# point_ini1, point_est1"
   ]
  },
  {
   "cell_type": "code",
   "execution_count": null,
   "metadata": {},
   "outputs": [],
   "source": [
    "# point_ini2, point_est2"
   ]
  },
  {
   "cell_type": "code",
   "execution_count": null,
   "metadata": {},
   "outputs": [],
   "source": [
    "\"\"\"\n",
    "Comparison of parameters\n",
    "\"\"\"\n",
    "\n",
    "N = 8\n",
    "ind = np.arange(N)  # the x locations for the groups\n",
    "width = 0.17       # the width of the bars\n",
    "\n",
    "fig_parameters = plt.figure(figsize = (12, 5))\n",
    "ax = fig_parameters.add_subplot(111)\n",
    "\n",
    "xvals = point_ini1\n",
    "yvals = point_est1\n",
    "rects1 = ax.bar(ind, xvals, width, color='r')\n",
    "rects2 = ax.bar(ind+width, yvals, width = width, color = 'b', \n",
    "                align='center', alpha=1, ecolor='black', capsize=8)\n",
    "\n",
    "zvals = point_ini2\n",
    "kvals = point_est2\n",
    "rects3 = ax.bar(ind+2*width, zvals, width, color='m')\n",
    "rects4 = ax.bar(ind+3*width, kvals, width = width, color = 'g', \n",
    "                align='center', alpha=1, ecolor='black', capsize=8)\n",
    "\n",
    "\n",
    "ax.set_title('Comparison of parameters', fontsize = 35)\n",
    "ax.set_ylabel('Parameters', fontsize = 30)\n",
    "ax.set_yticks([0, 0.5])\n",
    "for tick in ax.yaxis.get_major_ticks():\n",
    "    tick.label.set_fontsize(20) \n",
    "ax.set_xticks(ind+width)\n",
    "ax.set_xticklabels( ('Appearance \\n rate (box 1)', 'Appearance \\n rate (box 2)','Grooming \\n reward', \n",
    "                     'Traveling \\n cost', 'Pushing button \\n cost','policy \\n temperature',\n",
    "                    'Belief \\n diffusion', 'direct prob'), rotation=60, \n",
    "                   ha = 'center', fontsize = 20)\n",
    "leg = ax.legend( (rects1[0], rects2[0], rects3[0], rects4[0]), \n",
    "                ('init parameters 1', 'estimated parameters 1', \n",
    "                 'init parameters 2', 'estimated parameters 2' ), \n",
    "                fontsize = 10 , frameon=False)\n",
    "leg_c = ['r', 'b', 'm', 'g']\n",
    "for i, text in enumerate(leg.get_texts()):\n",
    "    plt.setp(text, color = leg_c[i])\n",
    "\n",
    "ax.xaxis.set_tick_params(length = 0)\n",
    "ax.spines['right'].set_visible(False)\n",
    "ax.spines['top'].set_visible(False)\n",
    "ax.spines['bottom'].set_visible(False)\n",
    "plt.show()\n",
    "\n",
    "#fig_parameters.savefig('parameters.pdf', format='pdf', bbox_inches = 'tight')"
   ]
  },
  {
   "cell_type": "markdown",
   "metadata": {},
   "source": [
    "# Behavioral statistics"
   ]
  },
  {
   "cell_type": "code",
   "execution_count": null,
   "metadata": {},
   "outputs": [],
   "source": [
    "from twobox import *"
   ]
  },
  {
   "cell_type": "code",
   "execution_count": null,
   "metadata": {},
   "outputs": [],
   "source": [
    "# nq = 10\n",
    "# nr = 2\n",
    "# nl = 3\n",
    "# na = 5\n",
    "# discount = 0.99"
   ]
  },
  {
   "cell_type": "code",
   "execution_count": null,
   "metadata": {},
   "outputs": [],
   "source": [
    "T = len(obs)"
   ]
  },
  {
   "cell_type": "code",
   "execution_count": null,
   "metadata": {},
   "outputs": [],
   "source": [
    "# point_est2_dis = np.insert(point_est2, 2, 0)\n",
    "# point_est2_dis = np.insert(point_est2_dis, 2, 0)"
   ]
  },
  {
   "cell_type": "code",
   "execution_count": null,
   "metadata": {},
   "outputs": [],
   "source": [
    "point_est2_dis = np.copy(point_est2)"
   ]
  },
  {
   "cell_type": "code",
   "execution_count": null,
   "metadata": {},
   "outputs": [],
   "source": [
    "point_est2_dis"
   ]
  },
  {
   "cell_type": "code",
   "execution_count": null,
   "metadata": {},
   "outputs": [],
   "source": [
    "# two_test2 = twoboxMDPdata(discount, nq, nr, na, nl, point_est2_dis, T, 1)"
   ]
  },
  {
   "cell_type": "code",
   "execution_count": null,
   "metadata": {},
   "outputs": [],
   "source": [
    "# point_est2_dis"
   ]
  },
  {
   "cell_type": "code",
   "execution_count": null,
   "metadata": {},
   "outputs": [],
   "source": [
    "# point_est3 = np.copy(point_est2)"
   ]
  },
  {
   "cell_type": "code",
   "execution_count": null,
   "metadata": {},
   "outputs": [],
   "source": [
    "# point_est3"
   ]
  },
  {
   "cell_type": "code",
   "execution_count": null,
   "metadata": {},
   "outputs": [],
   "source": [
    "# #temp = point_est3[0]\n",
    "# #point_est3[0] = point_est3[1]\n",
    "# #point_est3[1] = temp\n",
    "# point_est3[0] *= 3\n",
    "# point_est3[-2]/= 5\n",
    "# point_est3[-3]/= 5"
   ]
  },
  {
   "cell_type": "code",
   "execution_count": null,
   "metadata": {},
   "outputs": [],
   "source": [
    "# two_test3 = twoboxMDPdata(discount, nq, nr, na, nl, point_est3, T, 1)"
   ]
  },
  {
   "cell_type": "code",
   "execution_count": null,
   "metadata": {},
   "outputs": [],
   "source": [
    "# two_test2.dataGenerate_sfm(0, 0, 0, 0)\n",
    "# act_test2 = two_test2.action\n",
    "# rew_test2 = two_test2.reward\n",
    "# loc_test2 = two_test2.location\n"
   ]
  },
  {
   "cell_type": "code",
   "execution_count": null,
   "metadata": {},
   "outputs": [],
   "source": [
    "twobox_est = twoboxMDP(discount, nq, nr, na, nl, point_est2_dis)\n",
    "twobox_est.setupMDP()\n",
    "twobox_est.solveMDP_sfm()\n",
    "ThA = twobox_est.ThA\n",
    "softpolicy = twobox_est.softpolicy\n",
    "pi = np.ones(nq * nq)/ nq /nq  # initialize the estimation of the belief state\n",
    "twoHMM_est = HMMtwobox(ThA, softpolicy, pi)"
   ]
  },
  {
   "cell_type": "code",
   "execution_count": null,
   "metadata": {},
   "outputs": [],
   "source": [
    "# obs_test = (np.vstack([act_test2, rew_test2, loc_test2]).T)"
   ]
  },
  {
   "cell_type": "code",
   "execution_count": null,
   "metadata": {},
   "outputs": [],
   "source": [
    "alpha_est, scale_est = twoHMM_est.forward_scale(obs)\n",
    "beta_est = twoHMM_est.backward_scale(obs, scale_est)\n",
    "gamma_est = twoHMM_est.compute_gamma(alpha_est, beta_est)\n",
    "xi_est = twoHMM_est.compute_xi(alpha_est, beta_est, obs)"
   ]
  },
  {
   "cell_type": "code",
   "execution_count": null,
   "metadata": {},
   "outputs": [],
   "source": [
    "belief1_est = np.sum(np.reshape(gamma_est[:, ].T, (gamma_est.shape[1], nq, nq)), axis = 2)\n",
    "belief2_est = np.sum(np.reshape(gamma_est[:, ].T, (gamma_est.shape[1], nq, nq)), axis = 1)\n",
    "\n",
    "\n"
   ]
  },
  {
   "cell_type": "code",
   "execution_count": null,
   "metadata": {},
   "outputs": [],
   "source": [
    "belief1_est = np.sum(np.reshape(alpha_est[:, ].T, (alpha_est.shape[1], nq, nq)), axis = 2)\n",
    "belief2_est = np.sum(np.reshape(alpha_est[:, ].T, (alpha_est.shape[1], nq, nq)), axis = 1)\n",
    "\n",
    "\n",
    "#fig_posterior = plt.figure(figsize= (15, 10))\n",
    "\n",
    "showlen = 1000 #T // 1\n",
    "startT = 700 #T // 1 * (1-1)\n",
    "\n",
    "endT = startT + showlen\n",
    "showT = range(startT,endT)\n",
    "\n",
    "fig_posterior_monkey, [ax1, ax_loc, ax2] = plt.subplots(3, 1, figsize= (10, 6))\n",
    "a = .5\n",
    "\n",
    "ax1.imshow(1 - (belief1_est ** a)[showT].T, interpolation='Nearest', cmap='gray', origin='lower', aspect='auto')\n",
    "ax1.yaxis.set_label_coords(-0.1,0.25)\n",
    "ax1.set_ylabel('Belief posterior \\n about box 1', rotation= 360, fontsize = 15)\n",
    "ax1.set_yticks([0, nq-1])\n",
    "ax1.set_yticklabels(['0','1'])\n",
    "ax1.tick_params(axis='both', which='major', labelsize=18)\n",
    "ax1.spines['top'].set_visible(False)\n",
    "ax1.spines['right'].set_visible(False)\n",
    "ax1.spines['bottom'].set_visible(False)\n",
    "ax1.spines['left'].set_visible(False)\n",
    "ax1.set_xlim([0,showlen])\n",
    "\n",
    "ax_loc.plot((np.remainder(loc[showT]+1, 3) - 1 ) * 10, 'g-o', markersize = 3)\n",
    "box1_r = act[showT] // 4 * 7 * np.remainder(loc[showT]+1, 3) * np.insert(rew[showT][1:], -1, 0) * 1.0\n",
    "box2_r = act[showT] // 4 * 7 * (np.remainder(loc[showT]+1, 3) - 2) * np.insert(rew[showT][1:], -1, 0) * 1.0\n",
    "box1_n = act[showT] // 4 * 7 * np.remainder(loc[showT]+1, 3) * (1-np.insert(rew[showT][1:], -1, 0))* 1.0\n",
    "box2_n = act[showT] // 4 * 7 * ((np.remainder(loc[showT]+1, 3) - 2) * (1-np.insert(rew[showT][1:], -1, 0)))* 1.0\n",
    "box1_r[ box1_r==0 ] = np.nan\n",
    "box2_n[ box2_n==0 ] = np.nan\n",
    "box2_r[ box2_r==0 ] = np.nan\n",
    "box1_n[ box1_n==0 ] = np.nan\n",
    "ax_loc.plot(box2_r, '^', c = 'red', markersize = 10)\n",
    "ax_loc.plot(box1_n, 'v', c = 'blue', markersize = 10)\n",
    "ax_loc.plot(box2_n, '^', c = 'blue', markersize = 10)\n",
    "ax_loc.plot(box1_r, 'v', c = 'red', markersize = 10)\n",
    "ax_loc.set_xlim([0,showlen])\n",
    "ax_loc.spines['top'].set_visible(False)\n",
    "ax_loc.spines['right'].set_visible(False)\n",
    "ax_loc.spines['bottom'].set_visible(False)\n",
    "ax_loc.spines['left'].set_visible(False)\n",
    "ax_loc.set_yticks([])\n",
    "\n",
    "ax2.imshow(1 - (belief2_est ** a)[showT].T, interpolation='Nearest', cmap='gray', origin='lower',aspect='auto')\n",
    "ax2.set_xlabel('time', fontsize = 18)\n",
    "ax2.yaxis.set_label_coords(-0.1,0.25)\n",
    "ax2.set_ylabel('Belief posterior \\n about box 2', rotation= 360, fontsize = 15)\n",
    "ax2.tick_params(axis='both', which='major', labelsize=18)\n",
    "ax2.set_yticks([0, nq-1])\n",
    "ax2.set_yticklabels(['0','1'])\n",
    "ax2.set_xlim([0,showlen])\n",
    "\n",
    "\n",
    "plt.tight_layout()\n",
    "plt.show()\n",
    "\n",
    "\n",
    "#fig_posterior_monkey.savefig('fig_posterior_monkey.pdf', format='pdf', bbox_inches = 'tight')"
   ]
  },
  {
   "cell_type": "code",
   "execution_count": null,
   "metadata": {},
   "outputs": [],
   "source": [
    "belief2_est[1200:1230]"
   ]
  },
  {
   "cell_type": "code",
   "execution_count": null,
   "metadata": {
    "code_folding": [
     0
    ]
   },
   "outputs": [],
   "source": [
    "#fig_posterior = plt.figure(figsize= (15, 10))\n",
    "\n",
    "showlen = 1000 #T // 1\n",
    "startT = 700 #T // 1 * (1-1)\n",
    "\n",
    "endT = startT + showlen\n",
    "showT = range(startT,endT)\n",
    "\n",
    "fig_posterior_monkey, [ax1, ax_loc, ax2] = plt.subplots(3, 1, figsize= (10, 6))\n",
    "a = .5\n",
    "\n",
    "ax1.imshow(1 - (belief1_est ** a)[showT].T, interpolation='Nearest', cmap='gray', origin='lower', aspect='auto')\n",
    "ax1.yaxis.set_label_coords(-0.1,0.25)\n",
    "ax1.set_ylabel('Belief posterior \\n about box 1', rotation= 360, fontsize = 15)\n",
    "ax1.set_yticks([0, nq-1])\n",
    "ax1.set_yticklabels(['0','1'])\n",
    "ax1.tick_params(axis='both', which='major', labelsize=18)\n",
    "ax1.spines['top'].set_visible(False)\n",
    "ax1.spines['right'].set_visible(False)\n",
    "ax1.spines['bottom'].set_visible(False)\n",
    "ax1.spines['left'].set_visible(False)\n",
    "ax1.set_xlim([0,showlen])\n",
    "\n",
    "ax_loc.plot((np.remainder(loc[showT]+1, 3) - 1 ) * 10, 'g-o', markersize = 3)\n",
    "box1_r = act[showT] // 4 * 7 * np.remainder(loc[showT]+1, 3) * np.insert(rew[showT][1:], -1, 0) * 1.0\n",
    "box2_r = act[showT] // 4 * 7 * (np.remainder(loc[showT]+1, 3) - 2) * np.insert(rew[showT][1:], -1, 0) * 1.0\n",
    "box1_n = act[showT] // 4 * 7 * np.remainder(loc[showT]+1, 3) * (1-np.insert(rew[showT][1:], -1, 0))* 1.0\n",
    "box2_n = act[showT] // 4 * 7 * ((np.remainder(loc[showT]+1, 3) - 2) * (1-np.insert(rew[showT][1:], -1, 0)))* 1.0\n",
    "box1_r[ box1_r==0 ] = np.nan\n",
    "box2_n[ box2_n==0 ] = np.nan\n",
    "box2_r[ box2_r==0 ] = np.nan\n",
    "box1_n[ box1_n==0 ] = np.nan\n",
    "ax_loc.plot(box2_r, '^', c = 'red', markersize = 10)\n",
    "ax_loc.plot(box1_n, 'v', c = 'blue', markersize = 10)\n",
    "ax_loc.plot(box2_n, '^', c = 'blue', markersize = 10)\n",
    "ax_loc.plot(box1_r, 'v', c = 'red', markersize = 10)\n",
    "ax_loc.set_xlim([0,showlen])\n",
    "ax_loc.spines['top'].set_visible(False)\n",
    "ax_loc.spines['right'].set_visible(False)\n",
    "ax_loc.spines['bottom'].set_visible(False)\n",
    "ax_loc.spines['left'].set_visible(False)\n",
    "ax_loc.set_yticks([])\n",
    "\n",
    "ax2.imshow(1 - (belief2_est ** a)[showT].T, interpolation='Nearest', cmap='gray', origin='lower',aspect='auto')\n",
    "ax2.set_xlabel('time', fontsize = 18)\n",
    "ax2.yaxis.set_label_coords(-0.1,0.25)\n",
    "ax2.set_ylabel('Belief posterior \\n about box 2', rotation= 360, fontsize = 15)\n",
    "ax2.tick_params(axis='both', which='major', labelsize=18)\n",
    "ax2.set_yticks([0, nq-1])\n",
    "ax2.set_yticklabels(['0','1'])\n",
    "ax2.set_xlim([0,showlen])\n",
    "\n",
    "\n",
    "plt.tight_layout()\n",
    "plt.show()\n",
    "\n",
    "\n",
    "#fig_posterior_monkey.savefig('fig_posterior_monkey.pdf', format='pdf', bbox_inches = 'tight')"
   ]
  },
  {
   "cell_type": "code",
   "execution_count": null,
   "metadata": {},
   "outputs": [],
   "source": [
    "belief2_est[1200:1230]"
   ]
  },
  {
   "cell_type": "code",
   "execution_count": null,
   "metadata": {},
   "outputs": [],
   "source": [
    "target_schedule"
   ]
  },
  {
   "cell_type": "code",
   "execution_count": null,
   "metadata": {},
   "outputs": [],
   "source": [
    "[0.2 / point_est2[0], 0.2 / point_est2[1]]"
   ]
  },
  {
   "cell_type": "code",
   "execution_count": null,
   "metadata": {},
   "outputs": [],
   "source": []
  },
  {
   "cell_type": "code",
   "execution_count": null,
   "metadata": {},
   "outputs": [],
   "source": [
    "point_est2"
   ]
  },
  {
   "cell_type": "code",
   "execution_count": null,
   "metadata": {},
   "outputs": [],
   "source": [
    "point_est_exp = np.copy(point_est2)\n",
    "point_est_exp[0] = 1 / target_schedule[0] / 5\n",
    "point_est_exp[1] = 1 / target_schedule[1] / 5"
   ]
  },
  {
   "cell_type": "code",
   "execution_count": null,
   "metadata": {},
   "outputs": [],
   "source": [
    "point_est_exp[0] "
   ]
  },
  {
   "cell_type": "code",
   "execution_count": null,
   "metadata": {},
   "outputs": [],
   "source": [
    "twobox_est = twoboxMDP(discount, nq, nr, na, nl, point_est2)\n",
    "twobox_est.setupMDP()\n",
    "twobox_est.solveMDP_sfm()\n",
    "ThA = twobox_est.ThA\n",
    "softpolicy = twobox_est.softpolicy\n",
    "pi = np.ones(nq * nq)/ nq /nq  # initialize the estimation of the belief state\n",
    "twoHMM_est = HMMtwobox(ThA, softpolicy, pi)\n",
    "\n",
    "log_likelihood_est = twoHMM_est.computeQaux(obs, ThA, softpolicy) + twoHMM_est.latent_entr(obs)"
   ]
  },
  {
   "cell_type": "code",
   "execution_count": null,
   "metadata": {},
   "outputs": [],
   "source": [
    "log_likelihood_est"
   ]
  },
  {
   "cell_type": "code",
   "execution_count": null,
   "metadata": {},
   "outputs": [],
   "source": [
    "twobox_est_exp = twoboxMDP(discount, nq, nr, na, nl, point_est_exp)\n",
    "twobox_est_exp.setupMDP()\n",
    "twobox_est_exp.solveMDP_sfm()\n",
    "ThA_exp = twobox_est_exp.ThA\n",
    "softpolicy_exp = twobox_est_exp.softpolicy\n",
    "pi = np.ones(nq * nq)/ nq /nq  # initialize the estimation of the belief state\n",
    "twoHMM_est_exp = HMMtwobox(ThA_exp, softpolicy_exp, pi)\n",
    "\n",
    "log_likelihood_est_exp =twoHMM_est_exp.computeQaux(obs, ThA_exp, softpolicy_exp) + twoHMM_est_exp.latent_entr(obs)"
   ]
  },
  {
   "cell_type": "code",
   "execution_count": null,
   "metadata": {},
   "outputs": [],
   "source": [
    "log_likelihood_est_exp"
   ]
  },
  {
   "cell_type": "code",
   "execution_count": null,
   "metadata": {},
   "outputs": [],
   "source": [
    "N = 2\n",
    "  \n",
    "ind = np.arange(N)    \n",
    "width = 0.3  \n",
    "para_compar = np.array([log_likelihood_est, log_likelihood_est_exp])\n",
    "\n",
    "fig_loglikelihood, _ = plt.subplots(figsize =(8, 8)) \n",
    "p1 = plt.bar(ind, para_compar, width) \n",
    "\n",
    "\n",
    "plt.ylabel('log-likelihood', fontsize = 15) \n",
    "plt.title('Comparison of log-likelihood', fontsize = 18) \n",
    "plt.xticks(ind, ('IRC parameter', 'IRC parameter with \\n experiment setting'), fontsize = 15) \n",
    "plt.yticks([min(para_compar), 0], fontsize = 12) \n",
    "\n",
    "plt.show()\n",
    "fig_loglikelihood.savefig('fig_loglikelihood.pdf', format='pdf', bbox_inches = 'tight')"
   ]
  },
  {
   "cell_type": "code",
   "execution_count": null,
   "metadata": {},
   "outputs": [],
   "source": [
    "para_compar"
   ]
  },
  {
   "cell_type": "code",
   "execution_count": null,
   "metadata": {},
   "outputs": [],
   "source": []
  },
  {
   "cell_type": "code",
   "execution_count": null,
   "metadata": {},
   "outputs": [],
   "source": [
    "plt.imshow(belief1_est[500:600, :].T)\n",
    "plt.show()"
   ]
  },
  {
   "cell_type": "code",
   "execution_count": null,
   "metadata": {},
   "outputs": [],
   "source": [
    "plt.hist(np.squeeze(loc_test3))\n",
    "plt.show()"
   ]
  },
  {
   "cell_type": "code",
   "execution_count": null,
   "metadata": {},
   "outputs": [],
   "source": [
    "print(len(np.where((rew_test3 == 1) & (loc_test3 == 1))[1]), len(np.where((rew_test3 == 1) & (loc_test3 == 2))[1]))"
   ]
  },
  {
   "cell_type": "code",
   "execution_count": null,
   "metadata": {},
   "outputs": [],
   "source": [
    "point_est3"
   ]
  },
  {
   "cell_type": "code",
   "execution_count": null,
   "metadata": {},
   "outputs": [],
   "source": [
    "two_test.dataGenerate_sfm(0, 0, 0, 0)"
   ]
  },
  {
   "cell_type": "code",
   "execution_count": null,
   "metadata": {},
   "outputs": [],
   "source": [
    "act_test = two_test.action\n",
    "rew_test = two_test.reward\n",
    "loc_test = two_test.location"
   ]
  },
  {
   "cell_type": "code",
   "execution_count": null,
   "metadata": {},
   "outputs": [],
   "source": [
    "plt.plot(np.squeeze(loc_test))\n",
    "plt.show()"
   ]
  },
  {
   "cell_type": "code",
   "execution_count": null,
   "metadata": {},
   "outputs": [],
   "source": [
    "plt.hist(np.squeeze(loc_test))\n",
    "plt.show()"
   ]
  },
  {
   "cell_type": "code",
   "execution_count": null,
   "metadata": {},
   "outputs": [],
   "source": []
  },
  {
   "cell_type": "code",
   "execution_count": null,
   "metadata": {},
   "outputs": [],
   "source": [
    "len(np.where((rew_test == 1) & (loc_test == 2))[1])"
   ]
  },
  {
   "cell_type": "code",
   "execution_count": null,
   "metadata": {},
   "outputs": [],
   "source": [
    "point_est2"
   ]
  },
  {
   "cell_type": "code",
   "execution_count": null,
   "metadata": {},
   "outputs": [],
   "source": [
    "pbind_test = np.where(np.squeeze(act_test) == 4)[0]\n",
    "pbind = np.where(np.squeeze(act) == 4)[0]\n",
    "# # time between two pb\n",
    "\n"
   ]
  },
  {
   "cell_type": "code",
   "execution_count": null,
   "metadata": {},
   "outputs": [],
   "source": [
    "travelind_test = np.concatenate((np.where(np.squeeze(act_test) == 1)[0], \n",
    "                              np.where(np.squeeze(act_test) == 2)[0],\n",
    "                              np.where(np.squeeze(act_test) == 3)[0]))\n",
    "travelind = np.concatenate((np.where(np.squeeze(act) == 1)[0], \n",
    "                              np.where(np.squeeze(act) == 2)[0],\n",
    "                              np.where(np.squeeze(act) == 3)[0]))\n",
    "\n"
   ]
  },
  {
   "cell_type": "code",
   "execution_count": null,
   "metadata": {},
   "outputs": [],
   "source": [
    "len(act)"
   ]
  },
  {
   "cell_type": "code",
   "execution_count": null,
   "metadata": {},
   "outputs": [],
   "source": [
    "np.squeeze(act_test)"
   ]
  },
  {
   "cell_type": "code",
   "execution_count": null,
   "metadata": {},
   "outputs": [],
   "source": [
    "fig_behav, ax = plt.subplots(2, 2, figsize=(8, 8))\n",
    "\n",
    "ax[0, 0].hist([np.squeeze(act), np.squeeze(act_test)], bins = [0,1,2,3,4,5], \n",
    "         color = ['red','blue'], label = ['monkey','IRCagent'], alpha = 0.8)\n",
    "ax[0, 0].legend(fontsize = 12, frameon = False)\n",
    "ax[0, 0].set_title('Actions', fontsize = 30)\n",
    "labels = [item.get_text() for item in ax[0, 0].get_xticklabels()]\n",
    "labels[1] = 'do \\n nothing'\n",
    "labels[2] = 'go to \\n center'\n",
    "labels[3] = 'go to 1'\n",
    "labels[4] = 'go to 2'\n",
    "labels[5] = 'push \\n button'\n",
    "ax[0, 0].set_ylabel('Frequency', fontsize = 20)\n",
    "ax[0, 0].set_xticklabels(labels, rotation=60, ha = 'center', fontsize = 20)\n",
    "ax[0, 0].xaxis.set_tick_params(length = 0)\n",
    "ax[0, 0].set_yticks([])\n",
    "ax[0, 0].spines['top'].set_visible(False)\n",
    "ax[0, 0].spines['right'].set_visible(False)\n",
    "ax[0, 0].spines['bottom'].set_visible(False)\n",
    "ax[0, 0].spines['left'].set_visible(False)\n",
    "\n",
    "weights_loc = np.ones_like(np.squeeze(loc))/float(len(np.squeeze(loc)))\n",
    "weights_loc_test = np.ones_like(np.squeeze(loc_test))/float(len(np.squeeze(loc_test)))\n",
    "ax[0, 1].set_title('Locations', fontsize = 30)\n",
    "ax[0, 1].hist([np.squeeze(loc), np.squeeze(loc_test)], weights = [weights_loc, weights_loc_test],\n",
    "         bins = 5, color = ['red','blue'], label = ['monkey', 'IRCagent'], alpha = 0.8)\n",
    "ax[0, 1].set_xticks(np.arange(0, 2, 0.2))\n",
    "labels = [item.get_text() for item in ax[0, 1].get_xticklabels()]\n",
    "labels[1] = 'center'\n",
    "labels[5] = 'box 1'\n",
    "labels[9] = 'box 2'\n",
    "ax[0, 1].set_xticklabels(labels, ha = 'center', fontsize = 20)\n",
    "ax[0, 1].xaxis.set_tick_params(length = 0)\n",
    "ax[0, 1].set_yticks([])\n",
    "ax[0, 1].set_ylabel('Frequency', fontsize = 20)\n",
    "ax[0, 1].spines['top'].set_visible(False)\n",
    "ax[0, 1].spines['right'].set_visible(False)\n",
    "ax[0, 1].spines['bottom'].set_visible(False)\n",
    "ax[0, 1].spines['left'].set_visible(False)\n",
    "\n",
    "\n",
    "weights_pbind = np.ones_like(pbind[1:])/float(len(pbind[1:] ))\n",
    "weights_pbind_test = np.ones_like(pbind_test[1:])/float(len(pbind_test[1:]))\n",
    "ax[1, 0].set_title('Time between \\n button pushes', fontsize = 30)\n",
    "ax[1, 0].hist([pbind[1:] - pbind[0:-1], \n",
    "               pbind_test[1:] - pbind_test[0:-1]],\n",
    "              weights = [weights_pbind, weights_pbind_test],\n",
    "              bins = np.linspace(0, 40, 8), alpha = 0.8, \n",
    "              color = ['red','blue'], label = ['monkey', 'IRCagent'])\n",
    "ax[1, 0].set_ylabel('Frequency', fontsize = 20)\n",
    "ax[1, 0].set_xticks(range(0,41, 3))\n",
    "labels = [item.get_text() for item in ax[1, 0].get_xticklabels()]\n",
    "labels[1] = '0-5'\n",
    "labels[6] = '15-20 \\n time'\n",
    "labels[11] = '35-40'\n",
    "ax[1, 0].set_xticklabels(labels, ha = 'center', fontsize = 20)\n",
    "ax[1, 0].xaxis.set_tick_params(length = 0)\n",
    "ax[1, 0].set_yticks([])\n",
    "ax[1, 0].spines['top'].set_visible(False)\n",
    "ax[1, 0].spines['right'].set_visible(False)\n",
    "ax[1, 0].spines['bottom'].set_visible(False)\n",
    "ax[1, 0].spines['left'].set_visible(False)\n",
    "\n",
    "\n",
    "weights_travelind = np.ones_like(travelind[1:])/float(len(travelind[1:] ))\n",
    "weights_travelind_test = np.ones_like(travelind_test[1:])/float(len(travelind_test[1:]))\n",
    "ax[1, 1].set_title('Time between \\n travel', fontsize = 30)\n",
    "ax[1, 1].set_ylabel('Frequency', fontsize = 20)\n",
    "ax[1, 1].hist([travelind[1:] - travelind[0:-1], \n",
    "               travelind_test[1:] - travelind_test[0:-1]], \n",
    "              weights = [weights_travelind, weights_travelind_test], \n",
    "         bins = np.linspace(0, 40, 8), \n",
    "         color = ['red','blue'], label = ['monkey', 'IRCagent'], alpha = 0.8)\n",
    "ax[1, 1].set_xticks(range(0,41, 3))\n",
    "labels = [item.get_text() for item in ax[1, 1].get_xticklabels()]\n",
    "labels[1] = '0-5'\n",
    "labels[6] = '15-20 \\n time'\n",
    "labels[11] = '35-40'\n",
    "ax[1, 1].set_xticklabels(labels, ha = 'center', fontsize = 20)\n",
    "ax[1, 1].xaxis.set_tick_params(length = 0)\n",
    "ax[1, 1].set_yticks([])\n",
    "ax[1, 1].spines['top'].set_visible(False)\n",
    "ax[1, 1].spines['right'].set_visible(False)\n",
    "ax[1, 1].spines['bottom'].set_visible(False)\n",
    "ax[1, 1].spines['left'].set_visible(False)\n",
    "\n",
    "\n",
    "\n",
    "\n",
    "plt.tight_layout()\n",
    "plt.show()\n",
    "#fig_behav.savefig('behavior_state.pdf', format='pdf', bbox_inches = 'tight')\n",
    "\n",
    "\n"
   ]
  }
 ],
 "metadata": {
  "kernelspec": {
   "display_name": "Python 3",
   "language": "python",
   "name": "python3"
  },
  "language_info": {
   "codemirror_mode": {
    "name": "ipython",
    "version": 3
   },
   "file_extension": ".py",
   "mimetype": "text/x-python",
   "name": "python",
   "nbconvert_exporter": "python",
   "pygments_lexer": "ipython3",
   "version": "3.8.3"
  }
 },
 "nbformat": 4,
 "nbformat_minor": 2
}
