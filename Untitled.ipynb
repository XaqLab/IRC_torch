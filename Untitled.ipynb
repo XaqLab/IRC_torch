{
 "cells": [
  {
   "cell_type": "code",
   "execution_count": null,
   "metadata": {},
   "outputs": [],
   "source": [
    "l = 0\n",
    "r = len(nums) - 1\n",
    "while l <= r: 如果while中遇到满足条件的直接返回，那么这里可以有等；终止条件\t就是l=r时候，是否找到。）\n",
    "    mid = (l + r) // 2\n",
    "    if target == nums[mid]:\n",
    "        return mid\n",
    "    elif target < nums[mid]:\n",
    "        r = mid - 1\n",
    "    elif target >  nums[mid]:\n",
    "        l = mid + 1\n",
    "\n",
    "return -1"
   ]
  }
 ],
 "metadata": {
  "kernelspec": {
   "display_name": "Python 3",
   "language": "python",
   "name": "python3"
  },
  "language_info": {
   "codemirror_mode": {
    "name": "ipython",
    "version": 3
   },
   "file_extension": ".py",
   "mimetype": "text/x-python",
   "name": "python",
   "nbconvert_exporter": "python",
   "pygments_lexer": "ipython3",
   "version": "3.8.3"
  }
 },
 "nbformat": 4,
 "nbformat_minor": 4
}
